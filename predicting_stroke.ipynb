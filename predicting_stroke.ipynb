{
  "nbformat": 4,
  "nbformat_minor": 0,
  "metadata": {
    "kernelspec": {
      "language": "python",
      "display_name": "Python 3",
      "name": "python3"
    },
    "language_info": {
      "name": "python",
      "version": "3.7.10",
      "mimetype": "text/x-python",
      "codemirror_mode": {
        "name": "ipython",
        "version": 3
      },
      "pygments_lexer": "ipython3",
      "nbconvert_exporter": "python",
      "file_extension": ".py"
    },
    "colab": {
      "name": "predicting-stroke.ipynb",
      "provenance": [],
      "collapsed_sections": [
        "nVeaqddmPs_Q",
        "z80muQV3Ps_b",
        "omf18uxbPs_d",
        "jpbir86ZPs_e",
        "icr4Cz0nPs_g",
        "O1N-TWy1Ps_j",
        "3D5KQWfePs_k",
        "hVBFFhVzPs_l",
        "SBkthzc-Ps_n",
        "x1AEPLbkPs_n",
        "ALGIOAl3Ps_n",
        "W_0_MH8sPs_o",
        "LXYL2-O4Ps_p",
        "xXHfadVMPs_q",
        "mF5NsPRGPs_r",
        "DFxSxfmoPs_s",
        "r1cT02LMPs_t"
      ],
      "include_colab_link": true
    }
  },
  "cells": [
    {
      "cell_type": "markdown",
      "metadata": {
        "id": "view-in-github",
        "colab_type": "text"
      },
      "source": [
        "<a href=\"https://colab.research.google.com/github/Inga82/Classification/blob/main/predicting_stroke.ipynb\" target=\"_parent\"><img src=\"https://colab.research.google.com/assets/colab-badge.svg\" alt=\"Open In Colab\"/></a>"
      ]
    },
    {
      "cell_type": "code",
      "metadata": {
        "colab": {
          "base_uri": "https://localhost:8080/"
        },
        "id": "mpuKs6TxQ6Iz",
        "outputId": "d1a7c464-c0ab-46d7-ce12-e85baefbce0a"
      },
      "source": [
        "from google.colab import drive\n",
        "drive.mount('/content/drive')"
      ],
      "execution_count": 3,
      "outputs": [
        {
          "output_type": "stream",
          "text": [
            "Mounted at /content/drive\n"
          ],
          "name": "stdout"
        }
      ]
    },
    {
      "cell_type": "code",
      "metadata": {
        "colab": {
          "base_uri": "https://localhost:8080/"
        },
        "id": "Itr_dsOwQYWk",
        "outputId": "2b561353-d1f5-4eae-ecb6-49a2c09ae4dd"
      },
      "source": [
        "!pip install -q kaggle\n",
        "!pip install -q kaggle-cli\n",
        "!mkdir -p ~/.kaggle\n",
        "!cp \"/content/drive/MyDrive/Kaggle Token/kaggle.json\" ~/.kaggle/\n",
        "!cat ~/.kaggle/kaggle.json \n",
        "!chmod 600 ~/.kaggle/kaggle.json\n",
        "# For competition datasets\n",
        "#!kaggle competitions download -c dataset_name -p download_to_folder\n",
        "# For other datasets\n",
        "!kaggle datasets download -d fedesoriano/stroke-prediction-dataset -p /content/drive/MyDrive/Kaggle"
      ],
      "execution_count": 4,
      "outputs": [
        {
          "output_type": "stream",
          "text": [
            "\u001b[K     |████████████████████████████████| 81kB 4.0MB/s \n",
            "\u001b[K     |████████████████████████████████| 4.2MB 9.1MB/s \n",
            "\u001b[K     |████████████████████████████████| 112kB 38.1MB/s \n",
            "\u001b[K     |████████████████████████████████| 143kB 41.7MB/s \n",
            "\u001b[K     |████████████████████████████████| 51kB 5.7MB/s \n",
            "\u001b[?25h  Building wheel for kaggle-cli (setup.py) ... \u001b[?25l\u001b[?25hdone\n",
            "  Building wheel for lxml (setup.py) ... \u001b[?25lerror\n",
            "\u001b[31m  ERROR: Failed building wheel for lxml\u001b[0m\n",
            "\u001b[?25h  Building wheel for PrettyTable (setup.py) ... \u001b[?25l\u001b[?25hdone\n",
            "  Building wheel for pyperclip (setup.py) ... \u001b[?25l\u001b[?25hdone\n",
            "    Running setup.py install for lxml ... \u001b[?25l\u001b[?25herror\n",
            "\u001b[31mERROR: Command errored out with exit status 1: /usr/bin/python3 -u -c 'import sys, setuptools, tokenize; sys.argv[0] = '\"'\"'/tmp/pip-install-mn44hd3d/lxml/setup.py'\"'\"'; __file__='\"'\"'/tmp/pip-install-mn44hd3d/lxml/setup.py'\"'\"';f=getattr(tokenize, '\"'\"'open'\"'\"', open)(__file__);code=f.read().replace('\"'\"'\\r\\n'\"'\"', '\"'\"'\\n'\"'\"');f.close();exec(compile(code, __file__, '\"'\"'exec'\"'\"'))' install --record /tmp/pip-record-55iv1y1j/install-record.txt --single-version-externally-managed --compile Check the logs for full command output.\u001b[0m\n",
            "{\"username\":\"ingairle\",\"key\":\"cced89a899ef934c4e3963c401a84002\"}Downloading stroke-prediction-dataset.zip to /content/drive/MyDrive/Kaggle\n",
            "  0% 0.00/67.4k [00:00<?, ?B/s]\n",
            "100% 67.4k/67.4k [00:00<00:00, 9.23MB/s]\n"
          ],
          "name": "stdout"
        }
      ]
    },
    {
      "cell_type": "code",
      "metadata": {
        "colab": {
          "base_uri": "https://localhost:8080/"
        },
        "id": "hWz7ufn4QuyF",
        "outputId": "c84c70a9-cf30-497b-f9e1-d3f28429fcb1"
      },
      "source": [
        "!unzip /content/drive/MyDrive/Kaggle/Stroke.zip"
      ],
      "execution_count": 10,
      "outputs": [
        {
          "output_type": "stream",
          "text": [
            "Archive:  /content/drive/MyDrive/Kaggle/Stroke.zip\n",
            "  inflating: healthcare-dataset-stroke-data.csv  \n"
          ],
          "name": "stdout"
        }
      ]
    },
    {
      "cell_type": "markdown",
      "metadata": {
        "id": "lSiLXO9QPs_A"
      },
      "source": [
        "# Predicting stroke ¶"
      ]
    },
    {
      "cell_type": "code",
      "metadata": {
        "execution": {
          "iopub.status.busy": "2021-05-21T07:18:49.046427Z",
          "iopub.execute_input": "2021-05-21T07:18:49.047075Z",
          "iopub.status.idle": "2021-05-21T07:18:49.073887Z",
          "shell.execute_reply.started": "2021-05-21T07:18:49.047020Z",
          "shell.execute_reply": "2021-05-21T07:18:49.072740Z"
        },
        "trusted": true,
        "id": "8WzPZsigPs_C"
      },
      "source": [
        "#Load libraries\n",
        "\n",
        "import pandas as pd\n",
        "import numpy as np\n",
        "import matplotlib.pyplot as plt\n",
        "import seaborn as sns\n",
        "\n",
        "\n",
        "#Load dataset\n",
        "#df = pd.read_csv('../input/stroke-prediction-dataset/healthcare-dataset-stroke-data.csv')\n",
        "df = pd.read_csv('/content/healthcare-dataset-stroke-data.csv')"
      ],
      "execution_count": 13,
      "outputs": []
    },
    {
      "cell_type": "markdown",
      "metadata": {
        "id": "wLzKeHPtPs_E"
      },
      "source": [
        "## EDA"
      ]
    },
    {
      "cell_type": "markdown",
      "metadata": {
        "id": "pvdzcVnnPs_F"
      },
      "source": [
        "### Get to know the dataset"
      ]
    },
    {
      "cell_type": "code",
      "metadata": {
        "execution": {
          "iopub.status.busy": "2021-05-21T07:18:49.075475Z",
          "iopub.execute_input": "2021-05-21T07:18:49.075787Z",
          "iopub.status.idle": "2021-05-21T07:18:49.098176Z",
          "shell.execute_reply.started": "2021-05-21T07:18:49.075758Z",
          "shell.execute_reply": "2021-05-21T07:18:49.093831Z"
        },
        "trusted": true,
        "id": "ngnWPXdXPs_G",
        "outputId": "3cf4eda2-5449-4d52-9f3a-e29c747a34e4"
      },
      "source": [
        "#Get to know the dataset and display all columns\n",
        "pd.set_option('display.max_columns', None)\n",
        "df.head()"
      ],
      "execution_count": null,
      "outputs": [
        {
          "output_type": "execute_result",
          "data": {
            "text/plain": [
              "      id  gender   age  hypertension  heart_disease ever_married  \\\n",
              "0   9046    Male  67.0             0              1          Yes   \n",
              "1  51676  Female  61.0             0              0          Yes   \n",
              "2  31112    Male  80.0             0              1          Yes   \n",
              "3  60182  Female  49.0             0              0          Yes   \n",
              "4   1665  Female  79.0             1              0          Yes   \n",
              "\n",
              "       work_type Residence_type  avg_glucose_level   bmi   smoking_status  \\\n",
              "0        Private          Urban             228.69  36.6  formerly smoked   \n",
              "1  Self-employed          Rural             202.21   NaN     never smoked   \n",
              "2        Private          Rural             105.92  32.5     never smoked   \n",
              "3        Private          Urban             171.23  34.4           smokes   \n",
              "4  Self-employed          Rural             174.12  24.0     never smoked   \n",
              "\n",
              "   stroke  \n",
              "0       1  \n",
              "1       1  \n",
              "2       1  \n",
              "3       1  \n",
              "4       1  "
            ],
            "text/html": [
              "<div>\n",
              "<style scoped>\n",
              "    .dataframe tbody tr th:only-of-type {\n",
              "        vertical-align: middle;\n",
              "    }\n",
              "\n",
              "    .dataframe tbody tr th {\n",
              "        vertical-align: top;\n",
              "    }\n",
              "\n",
              "    .dataframe thead th {\n",
              "        text-align: right;\n",
              "    }\n",
              "</style>\n",
              "<table border=\"1\" class=\"dataframe\">\n",
              "  <thead>\n",
              "    <tr style=\"text-align: right;\">\n",
              "      <th></th>\n",
              "      <th>id</th>\n",
              "      <th>gender</th>\n",
              "      <th>age</th>\n",
              "      <th>hypertension</th>\n",
              "      <th>heart_disease</th>\n",
              "      <th>ever_married</th>\n",
              "      <th>work_type</th>\n",
              "      <th>Residence_type</th>\n",
              "      <th>avg_glucose_level</th>\n",
              "      <th>bmi</th>\n",
              "      <th>smoking_status</th>\n",
              "      <th>stroke</th>\n",
              "    </tr>\n",
              "  </thead>\n",
              "  <tbody>\n",
              "    <tr>\n",
              "      <th>0</th>\n",
              "      <td>9046</td>\n",
              "      <td>Male</td>\n",
              "      <td>67.0</td>\n",
              "      <td>0</td>\n",
              "      <td>1</td>\n",
              "      <td>Yes</td>\n",
              "      <td>Private</td>\n",
              "      <td>Urban</td>\n",
              "      <td>228.69</td>\n",
              "      <td>36.6</td>\n",
              "      <td>formerly smoked</td>\n",
              "      <td>1</td>\n",
              "    </tr>\n",
              "    <tr>\n",
              "      <th>1</th>\n",
              "      <td>51676</td>\n",
              "      <td>Female</td>\n",
              "      <td>61.0</td>\n",
              "      <td>0</td>\n",
              "      <td>0</td>\n",
              "      <td>Yes</td>\n",
              "      <td>Self-employed</td>\n",
              "      <td>Rural</td>\n",
              "      <td>202.21</td>\n",
              "      <td>NaN</td>\n",
              "      <td>never smoked</td>\n",
              "      <td>1</td>\n",
              "    </tr>\n",
              "    <tr>\n",
              "      <th>2</th>\n",
              "      <td>31112</td>\n",
              "      <td>Male</td>\n",
              "      <td>80.0</td>\n",
              "      <td>0</td>\n",
              "      <td>1</td>\n",
              "      <td>Yes</td>\n",
              "      <td>Private</td>\n",
              "      <td>Rural</td>\n",
              "      <td>105.92</td>\n",
              "      <td>32.5</td>\n",
              "      <td>never smoked</td>\n",
              "      <td>1</td>\n",
              "    </tr>\n",
              "    <tr>\n",
              "      <th>3</th>\n",
              "      <td>60182</td>\n",
              "      <td>Female</td>\n",
              "      <td>49.0</td>\n",
              "      <td>0</td>\n",
              "      <td>0</td>\n",
              "      <td>Yes</td>\n",
              "      <td>Private</td>\n",
              "      <td>Urban</td>\n",
              "      <td>171.23</td>\n",
              "      <td>34.4</td>\n",
              "      <td>smokes</td>\n",
              "      <td>1</td>\n",
              "    </tr>\n",
              "    <tr>\n",
              "      <th>4</th>\n",
              "      <td>1665</td>\n",
              "      <td>Female</td>\n",
              "      <td>79.0</td>\n",
              "      <td>1</td>\n",
              "      <td>0</td>\n",
              "      <td>Yes</td>\n",
              "      <td>Self-employed</td>\n",
              "      <td>Rural</td>\n",
              "      <td>174.12</td>\n",
              "      <td>24.0</td>\n",
              "      <td>never smoked</td>\n",
              "      <td>1</td>\n",
              "    </tr>\n",
              "  </tbody>\n",
              "</table>\n",
              "</div>"
            ]
          },
          "metadata": {
            "tags": []
          },
          "execution_count": 163
        }
      ]
    },
    {
      "cell_type": "code",
      "metadata": {
        "execution": {
          "iopub.status.busy": "2021-05-21T07:18:49.100908Z",
          "iopub.execute_input": "2021-05-21T07:18:49.101396Z",
          "iopub.status.idle": "2021-05-21T07:18:49.109603Z",
          "shell.execute_reply.started": "2021-05-21T07:18:49.101346Z",
          "shell.execute_reply": "2021-05-21T07:18:49.108518Z"
        },
        "trusted": true,
        "id": "Hi7XQDubPs_I",
        "outputId": "4b3a79a0-162a-4f9e-a27e-ad6abe152ac4"
      },
      "source": [
        "#Determine number of rows and columns\n",
        "df.shape"
      ],
      "execution_count": null,
      "outputs": [
        {
          "output_type": "execute_result",
          "data": {
            "text/plain": [
              "(5110, 12)"
            ]
          },
          "metadata": {
            "tags": []
          },
          "execution_count": 164
        }
      ]
    },
    {
      "cell_type": "code",
      "metadata": {
        "execution": {
          "iopub.status.busy": "2021-05-21T07:18:49.111576Z",
          "iopub.execute_input": "2021-05-21T07:18:49.113127Z",
          "iopub.status.idle": "2021-05-21T07:18:49.145003Z",
          "shell.execute_reply.started": "2021-05-21T07:18:49.113078Z",
          "shell.execute_reply": "2021-05-21T07:18:49.143626Z"
        },
        "trusted": true,
        "id": "zEsKPTpJPs_J",
        "outputId": "070d9fbc-dd64-445f-89ba-a98ed986474f"
      },
      "source": [
        "#Check features, datatypes and null values\n",
        "df.info()"
      ],
      "execution_count": null,
      "outputs": [
        {
          "output_type": "stream",
          "text": [
            "<class 'pandas.core.frame.DataFrame'>\n",
            "RangeIndex: 5110 entries, 0 to 5109\n",
            "Data columns (total 12 columns):\n",
            " #   Column             Non-Null Count  Dtype  \n",
            "---  ------             --------------  -----  \n",
            " 0   id                 5110 non-null   int64  \n",
            " 1   gender             5110 non-null   object \n",
            " 2   age                5110 non-null   float64\n",
            " 3   hypertension       5110 non-null   int64  \n",
            " 4   heart_disease      5110 non-null   int64  \n",
            " 5   ever_married       5110 non-null   object \n",
            " 6   work_type          5110 non-null   object \n",
            " 7   Residence_type     5110 non-null   object \n",
            " 8   avg_glucose_level  5110 non-null   float64\n",
            " 9   bmi                4909 non-null   float64\n",
            " 10  smoking_status     5110 non-null   object \n",
            " 11  stroke             5110 non-null   int64  \n",
            "dtypes: float64(3), int64(4), object(5)\n",
            "memory usage: 479.2+ KB\n"
          ],
          "name": "stdout"
        }
      ]
    },
    {
      "cell_type": "markdown",
      "metadata": {
        "id": "kh3I23RKPs_J"
      },
      "source": [
        "Feature \"bmi\" contains 201 null values. This is only a few values and can therefore be dropped from the dataset."
      ]
    },
    {
      "cell_type": "markdown",
      "metadata": {
        "id": "gFqqXO13Ps_K"
      },
      "source": [
        "### Remove null values from dataset"
      ]
    },
    {
      "cell_type": "code",
      "metadata": {
        "execution": {
          "iopub.status.busy": "2021-05-21T07:18:49.146821Z",
          "iopub.execute_input": "2021-05-21T07:18:49.147124Z",
          "iopub.status.idle": "2021-05-21T07:18:49.164365Z",
          "shell.execute_reply.started": "2021-05-21T07:18:49.147094Z",
          "shell.execute_reply": "2021-05-21T07:18:49.162753Z"
        },
        "trusted": true,
        "id": "c8COk-w6Ps_K"
      },
      "source": [
        "#Remove rows with null values\n",
        "df = df.dropna(how='any',axis=0) "
      ],
      "execution_count": null,
      "outputs": []
    },
    {
      "cell_type": "code",
      "metadata": {
        "execution": {
          "iopub.status.busy": "2021-05-21T07:18:49.166554Z",
          "iopub.execute_input": "2021-05-21T07:18:49.167008Z",
          "iopub.status.idle": "2021-05-21T07:18:49.177438Z",
          "shell.execute_reply.started": "2021-05-21T07:18:49.166962Z",
          "shell.execute_reply": "2021-05-21T07:18:49.176549Z"
        },
        "trusted": true,
        "id": "5TAuvdlQPs_L",
        "outputId": "7822a718-acee-4b2c-91da-1d96b83dbb81"
      },
      "source": [
        "#Determine number of rows and columns\n",
        "df.shape"
      ],
      "execution_count": null,
      "outputs": [
        {
          "output_type": "execute_result",
          "data": {
            "text/plain": [
              "(4909, 12)"
            ]
          },
          "metadata": {
            "tags": []
          },
          "execution_count": 167
        }
      ]
    },
    {
      "cell_type": "markdown",
      "metadata": {
        "id": "C2xxgaMoPs_M"
      },
      "source": [
        "### Proportion of the different genders in the dataset"
      ]
    },
    {
      "cell_type": "code",
      "metadata": {
        "execution": {
          "iopub.status.busy": "2021-05-21T07:18:49.179155Z",
          "iopub.execute_input": "2021-05-21T07:18:49.179805Z",
          "iopub.status.idle": "2021-05-21T07:18:49.337752Z",
          "shell.execute_reply.started": "2021-05-21T07:18:49.179758Z",
          "shell.execute_reply": "2021-05-21T07:18:49.336956Z"
        },
        "trusted": true,
        "id": "SbleHjfrPs_M",
        "outputId": "3f597b76-de57-4b73-f310-4f7ae7fbe5cf"
      },
      "source": [
        "plt.figure(figsize=(4,5))\n",
        "countplot_gender = sns.countplot(data=df,x='gender')\n",
        "\n",
        "for p in countplot_gender.patches:\n",
        "    countplot_gender.annotate(format(p.get_height(), '.2f'), (p.get_x() + p.get_width() / 2., p.get_height()), ha = 'center', va = 'center', xytext = (0, 10), textcoords = 'offset points')"
      ],
      "execution_count": null,
      "outputs": [
        {
          "output_type": "display_data",
          "data": {
            "text/plain": [
              "<Figure size 288x360 with 1 Axes>"
            ],
            "image/png": "[encoded data removed]"
          },
          "metadata": {
            "tags": [],
            "needs_background": "light"
          }
        }
      ]
    },
    {
      "cell_type": "markdown",
      "metadata": {
        "id": "H2Yh4LpJPs_N"
      },
      "source": [
        "The are ~800 more females than males in dataset."
      ]
    },
    {
      "cell_type": "markdown",
      "metadata": {
        "id": "M1hvxdzIPs_O"
      },
      "source": [
        "### Porportion of stroke patients in dataset"
      ]
    },
    {
      "cell_type": "code",
      "metadata": {
        "execution": {
          "iopub.status.busy": "2021-05-21T07:18:49.339110Z",
          "iopub.execute_input": "2021-05-21T07:18:49.339686Z",
          "iopub.status.idle": "2021-05-21T07:18:49.446283Z",
          "shell.execute_reply.started": "2021-05-21T07:18:49.339643Z",
          "shell.execute_reply": "2021-05-21T07:18:49.445168Z"
        },
        "trusted": true,
        "id": "gXUmOmFfPs_O",
        "outputId": "0cae531c-08b4-4984-f19b-284346470517"
      },
      "source": [
        "plt.figure(figsize=(4,5))\n",
        "sns.countplot(data=df,x='stroke')"
      ],
      "execution_count": null,
      "outputs": [
        {
          "output_type": "execute_result",
          "data": {
            "text/plain": [
              "<AxesSubplot:xlabel='stroke', ylabel='count'>"
            ]
          },
          "metadata": {
            "tags": []
          },
          "execution_count": 169
        },
        {
          "output_type": "display_data",
          "data": {
            "text/plain": [
              "<Figure size 288x360 with 1 Axes>"
            ],
            "image/png": "[encoded data removed]"
          },
          "metadata": {
            "tags": [],
            "needs_background": "light"
          }
        }
      ]
    },
    {
      "cell_type": "markdown",
      "metadata": {
        "id": "4GitC-I3Ps_P"
      },
      "source": [
        "The dataset is imbalanced dataset with only few stroke patients. This needs to be addressed during data preprocessing before building the predictive models."
      ]
    },
    {
      "cell_type": "markdown",
      "metadata": {
        "id": "nVeaqddmPs_Q"
      },
      "source": [
        "### Gender of stroke patients"
      ]
    },
    {
      "cell_type": "code",
      "metadata": {
        "execution": {
          "iopub.status.busy": "2021-05-21T08:45:27.909137Z",
          "iopub.execute_input": "2021-05-21T08:45:27.909895Z",
          "iopub.status.idle": "2021-05-21T08:45:28.029495Z",
          "shell.execute_reply.started": "2021-05-21T08:45:27.909855Z",
          "shell.execute_reply": "2021-05-21T08:45:28.028507Z"
        },
        "trusted": true,
        "id": "pw5DJrXePs_Q",
        "outputId": "70edae39-946b-443b-eae1-b2ef85bac9a9"
      },
      "source": [
        "plt.figure(figsize=(3,5))\n",
        "df_stroke=df.loc[df['stroke']==1]\n",
        "sns.countplot(data=df_stroke,x='gender')"
      ],
      "execution_count": null,
      "outputs": [
        {
          "output_type": "execute_result",
          "data": {
            "text/plain": [
              "<AxesSubplot:xlabel='gender', ylabel='count'>"
            ]
          },
          "metadata": {
            "tags": []
          },
          "execution_count": 270
        },
        {
          "output_type": "display_data",
          "data": {
            "text/plain": [
              "<Figure size 216x360 with 1 Axes>"
            ],
            "image/png": "[encoded data removed]"
          },
          "metadata": {
            "tags": [],
            "needs_background": "light"
          }
        }
      ]
    },
    {
      "cell_type": "code",
      "metadata": {
        "execution": {
          "iopub.status.busy": "2021-05-21T08:45:31.273594Z",
          "iopub.execute_input": "2021-05-21T08:45:31.273960Z",
          "iopub.status.idle": "2021-05-21T08:45:31.404599Z",
          "shell.execute_reply.started": "2021-05-21T08:45:31.273930Z",
          "shell.execute_reply": "2021-05-21T08:45:31.403740Z"
        },
        "trusted": true,
        "id": "DNhRufvNPs_R",
        "outputId": "7d1d19d2-af96-4827-a92b-28850864d055"
      },
      "source": [
        "plt.figure(figsize=(4,5))\n",
        "df_stroke=df.loc[df['stroke']==0]\n",
        "sns.countplot(data=df_stroke,x='gender')"
      ],
      "execution_count": null,
      "outputs": [
        {
          "output_type": "execute_result",
          "data": {
            "text/plain": [
              "<AxesSubplot:xlabel='gender', ylabel='count'>"
            ]
          },
          "metadata": {
            "tags": []
          },
          "execution_count": 271
        },
        {
          "output_type": "display_data",
          "data": {
            "text/plain": [
              "<Figure size 288x360 with 1 Axes>"
            ],
            "image/png": "[encoded data removed]"
          },
          "metadata": {
            "tags": [],
            "needs_background": "light"
          }
        }
      ]
    },
    {
      "cell_type": "raw",
      "metadata": {
        "id": "GCnC4nGVPs_R"
      },
      "source": [
        "Dataset contains more females overall. But ratio female/male is smaller in stroke patients vs. non-stroke patients, suggesting that stroke is more prevalent in males.\n"
      ]
    },
    {
      "cell_type": "markdown",
      "metadata": {
        "id": "azi1uUp9Ps_S"
      },
      "source": [
        "## Hypertension in stroke patients"
      ]
    },
    {
      "cell_type": "code",
      "metadata": {
        "execution": {
          "iopub.status.busy": "2021-05-21T08:46:25.803268Z",
          "iopub.execute_input": "2021-05-21T08:46:25.803676Z",
          "iopub.status.idle": "2021-05-21T08:46:25.932498Z",
          "shell.execute_reply.started": "2021-05-21T08:46:25.803639Z",
          "shell.execute_reply": "2021-05-21T08:46:25.931400Z"
        },
        "trusted": true,
        "id": "7xFBO4oKPs_S",
        "outputId": "1c161f32-37b6-4a9e-fac8-b9445769ff17"
      },
      "source": [
        "plt.figure(figsize=(3,5))\n",
        "df_stroke=df.loc[df['stroke']==1]\n",
        "sns.countplot(data=df_stroke,x='hypertension')"
      ],
      "execution_count": null,
      "outputs": [
        {
          "output_type": "execute_result",
          "data": {
            "text/plain": [
              "<AxesSubplot:xlabel='hypertension', ylabel='count'>"
            ]
          },
          "metadata": {
            "tags": []
          },
          "execution_count": 272
        },
        {
          "output_type": "display_data",
          "data": {
            "text/plain": [
              "<Figure size 216x360 with 1 Axes>"
            ],
            "image/png": "[encoded data removed]"
          },
          "metadata": {
            "tags": [],
            "needs_background": "light"
          }
        }
      ]
    },
    {
      "cell_type": "code",
      "metadata": {
        "execution": {
          "iopub.status.busy": "2021-05-21T08:46:37.375061Z",
          "iopub.execute_input": "2021-05-21T08:46:37.375456Z",
          "iopub.status.idle": "2021-05-21T08:46:37.488158Z",
          "shell.execute_reply.started": "2021-05-21T08:46:37.375425Z",
          "shell.execute_reply": "2021-05-21T08:46:37.487045Z"
        },
        "trusted": true,
        "id": "sf9l1o0ePs_T",
        "outputId": "7734140d-4212-4451-90e4-76fcc371951a"
      },
      "source": [
        "plt.figure(figsize=(3,5))\n",
        "df_stroke=df.loc[df['stroke']==0]\n",
        "sns.countplot(data=df_stroke,x='hypertension')"
      ],
      "execution_count": null,
      "outputs": [
        {
          "output_type": "execute_result",
          "data": {
            "text/plain": [
              "<AxesSubplot:xlabel='hypertension', ylabel='count'>"
            ]
          },
          "metadata": {
            "tags": []
          },
          "execution_count": 274
        },
        {
          "output_type": "display_data",
          "data": {
            "text/plain": [
              "<Figure size 216x360 with 1 Axes>"
            ],
            "image/png": "[encoded data removed]"
          },
          "metadata": {
            "tags": [],
            "needs_background": "light"
          }
        }
      ]
    },
    {
      "cell_type": "markdown",
      "metadata": {
        "id": "DxKUKw2EPs_T"
      },
      "source": [
        "Hypertension more prevalent in stroke patients compared to non-stroke patients."
      ]
    },
    {
      "cell_type": "markdown",
      "metadata": {
        "id": "xc2N6CkHPs_U"
      },
      "source": [
        "## Heart disease in stroke patients"
      ]
    },
    {
      "cell_type": "code",
      "metadata": {
        "execution": {
          "iopub.status.busy": "2021-05-21T08:47:00.673030Z",
          "iopub.execute_input": "2021-05-21T08:47:00.673406Z",
          "iopub.status.idle": "2021-05-21T08:47:00.796049Z",
          "shell.execute_reply.started": "2021-05-21T08:47:00.673375Z",
          "shell.execute_reply": "2021-05-21T08:47:00.795143Z"
        },
        "trusted": true,
        "id": "iJhBZfLIPs_U",
        "outputId": "772bb94e-67bf-4e30-a648-e2569a649af4"
      },
      "source": [
        "plt.figure(figsize=(3,5))\n",
        "df_stroke=df.loc[df['stroke']==1]\n",
        "sns.countplot(data=df_stroke,x='heart_disease')"
      ],
      "execution_count": null,
      "outputs": [
        {
          "output_type": "execute_result",
          "data": {
            "text/plain": [
              "<AxesSubplot:xlabel='heart_disease', ylabel='count'>"
            ]
          },
          "metadata": {
            "tags": []
          },
          "execution_count": 275
        },
        {
          "output_type": "display_data",
          "data": {
            "text/plain": [
              "<Figure size 216x360 with 1 Axes>"
            ],
            "image/png": "[encoded data removed]"
          },
          "metadata": {
            "tags": [],
            "needs_background": "light"
          }
        }
      ]
    },
    {
      "cell_type": "code",
      "metadata": {
        "execution": {
          "iopub.status.busy": "2021-05-21T08:47:11.402729Z",
          "iopub.execute_input": "2021-05-21T08:47:11.403307Z",
          "iopub.status.idle": "2021-05-21T08:47:11.521056Z",
          "shell.execute_reply.started": "2021-05-21T08:47:11.403258Z",
          "shell.execute_reply": "2021-05-21T08:47:11.519857Z"
        },
        "trusted": true,
        "id": "ZIVFXgMNPs_V",
        "outputId": "a97979ea-19e8-41b1-c2df-7c0e58e3098c"
      },
      "source": [
        "plt.figure(figsize=(3,5))\n",
        "df_stroke=df.loc[df['stroke']==0]\n",
        "sns.countplot(data=df_stroke,x='heart_disease')"
      ],
      "execution_count": null,
      "outputs": [
        {
          "output_type": "execute_result",
          "data": {
            "text/plain": [
              "<AxesSubplot:xlabel='heart_disease', ylabel='count'>"
            ]
          },
          "metadata": {
            "tags": []
          },
          "execution_count": 277
        },
        {
          "output_type": "display_data",
          "data": {
            "text/plain": [
              "<Figure size 216x360 with 1 Axes>"
            ],
            "image/png": "[encoded data removed]"
          },
          "metadata": {
            "tags": [],
            "needs_background": "light"
          }
        }
      ]
    },
    {
      "cell_type": "markdown",
      "metadata": {
        "id": "-AaYYgG5Ps_V"
      },
      "source": [
        "Heart disease more prevalent in stroke patients compared to non-stroke patients."
      ]
    },
    {
      "cell_type": "markdown",
      "metadata": {
        "id": "TZtsYD1tPs_W"
      },
      "source": [
        "## Marital status of stroke patients"
      ]
    },
    {
      "cell_type": "code",
      "metadata": {
        "execution": {
          "iopub.status.busy": "2021-05-21T08:47:32.173241Z",
          "iopub.execute_input": "2021-05-21T08:47:32.173925Z",
          "iopub.status.idle": "2021-05-21T08:47:32.324471Z",
          "shell.execute_reply.started": "2021-05-21T08:47:32.173861Z",
          "shell.execute_reply": "2021-05-21T08:47:32.323292Z"
        },
        "trusted": true,
        "id": "mpssnJglPs_W",
        "outputId": "2fff5073-7244-46f8-b8cd-dc1ff894411a"
      },
      "source": [
        "plt.figure(figsize=(3,5))\n",
        "df_stroke=df.loc[df['stroke']==1]\n",
        "sns.countplot(data=df_stroke,x='ever_married')"
      ],
      "execution_count": null,
      "outputs": [
        {
          "output_type": "execute_result",
          "data": {
            "text/plain": [
              "<AxesSubplot:xlabel='ever_married', ylabel='count'>"
            ]
          },
          "metadata": {
            "tags": []
          },
          "execution_count": 278
        },
        {
          "output_type": "display_data",
          "data": {
            "text/plain": [
              "<Figure size 216x360 with 1 Axes>"
            ],
            "image/png": "[encoded data removed]"
          },
          "metadata": {
            "tags": [],
            "needs_background": "light"
          }
        }
      ]
    },
    {
      "cell_type": "code",
      "metadata": {
        "execution": {
          "iopub.status.busy": "2021-05-21T08:47:38.489193Z",
          "iopub.execute_input": "2021-05-21T08:47:38.489653Z",
          "iopub.status.idle": "2021-05-21T08:47:38.625860Z",
          "shell.execute_reply.started": "2021-05-21T08:47:38.489617Z",
          "shell.execute_reply": "2021-05-21T08:47:38.624732Z"
        },
        "trusted": true,
        "id": "DP6nqKVyPs_X",
        "outputId": "f9adcef5-d877-43af-e977-37738827f0a2"
      },
      "source": [
        "plt.figure(figsize=(3,5))\n",
        "df_stroke=df.loc[df['stroke']==0]\n",
        "sns.countplot(data=df_stroke,x='ever_married')"
      ],
      "execution_count": null,
      "outputs": [
        {
          "output_type": "execute_result",
          "data": {
            "text/plain": [
              "<AxesSubplot:xlabel='ever_married', ylabel='count'>"
            ]
          },
          "metadata": {
            "tags": []
          },
          "execution_count": 279
        },
        {
          "output_type": "display_data",
          "data": {
            "text/plain": [
              "<Figure size 216x360 with 1 Axes>"
            ],
            "image/png": "[encoded data removed]"
          },
          "metadata": {
            "tags": [],
            "needs_background": "light"
          }
        }
      ]
    },
    {
      "cell_type": "markdown",
      "metadata": {
        "id": "zYClPnN8Ps_X"
      },
      "source": [
        "Stroke is more prevalent in patients ever married."
      ]
    },
    {
      "cell_type": "markdown",
      "metadata": {
        "id": "VLiBpidVPs_Y"
      },
      "source": [
        "## Work type of stroke patients"
      ]
    },
    {
      "cell_type": "code",
      "metadata": {
        "execution": {
          "iopub.status.busy": "2021-05-21T07:18:50.409913Z",
          "iopub.execute_input": "2021-05-21T07:18:50.410224Z",
          "iopub.status.idle": "2021-05-21T07:18:50.547707Z",
          "shell.execute_reply.started": "2021-05-21T07:18:50.410195Z",
          "shell.execute_reply": "2021-05-21T07:18:50.546871Z"
        },
        "trusted": true,
        "id": "QpiCz_IaPs_Y",
        "outputId": "dbb9a6e1-24f2-4acf-fbd9-69c97e7d70a8"
      },
      "source": [
        "plt.figure(figsize=(7,5))\n",
        "df_stroke=df.loc[df['stroke']==1]\n",
        "sns.countplot(data=df_stroke,x='work_type')"
      ],
      "execution_count": null,
      "outputs": [
        {
          "output_type": "execute_result",
          "data": {
            "text/plain": [
              "<AxesSubplot:xlabel='work_type', ylabel='count'>"
            ]
          },
          "metadata": {
            "tags": []
          },
          "execution_count": 178
        },
        {
          "output_type": "display_data",
          "data": {
            "text/plain": [
              "<Figure size 504x360 with 1 Axes>"
            ],
            "image/png": "[encoded data removed]"
          },
          "metadata": {
            "tags": [],
            "needs_background": "light"
          }
        }
      ]
    },
    {
      "cell_type": "code",
      "metadata": {
        "execution": {
          "iopub.status.busy": "2021-05-21T07:18:50.548915Z",
          "iopub.execute_input": "2021-05-21T07:18:50.549485Z",
          "iopub.status.idle": "2021-05-21T07:18:50.892561Z",
          "shell.execute_reply.started": "2021-05-21T07:18:50.549442Z",
          "shell.execute_reply": "2021-05-21T07:18:50.891707Z"
        },
        "trusted": true,
        "id": "_V0cbG6_Ps_Z",
        "outputId": "127852c9-df91-40a0-e36c-931a0dc9e174"
      },
      "source": [
        "plt.figure(figsize=(7,5))\n",
        "df_stroke=df.loc[df['stroke']==0]\n",
        "sns.countplot(data=df_stroke,x='work_type')"
      ],
      "execution_count": null,
      "outputs": [
        {
          "output_type": "execute_result",
          "data": {
            "text/plain": [
              "<AxesSubplot:xlabel='work_type', ylabel='count'>"
            ]
          },
          "metadata": {
            "tags": []
          },
          "execution_count": 179
        },
        {
          "output_type": "display_data",
          "data": {
            "text/plain": [
              "<Figure size 504x360 with 1 Axes>"
            ],
            "image/png": "[encoded data removed]"
          },
          "metadata": {
            "tags": [],
            "needs_background": "light"
          }
        }
      ]
    },
    {
      "cell_type": "markdown",
      "metadata": {
        "id": "fuLoy2WPPs_Z"
      },
      "source": [
        "Difficult to draw conclusions due to small number of classes within stroke patients, class \"children\" seems to be less prevalent in stroke patients."
      ]
    },
    {
      "cell_type": "markdown",
      "metadata": {
        "id": "Kf0coC8UPs_Z"
      },
      "source": [
        "## Residence type of stroke patients"
      ]
    },
    {
      "cell_type": "code",
      "metadata": {
        "execution": {
          "iopub.status.busy": "2021-05-21T08:48:58.546817Z",
          "iopub.execute_input": "2021-05-21T08:48:58.547216Z",
          "iopub.status.idle": "2021-05-21T08:48:58.661730Z",
          "shell.execute_reply.started": "2021-05-21T08:48:58.547186Z",
          "shell.execute_reply": "2021-05-21T08:48:58.660965Z"
        },
        "trusted": true,
        "id": "7FLsDPbsPs_a",
        "outputId": "f0517f05-8416-4475-ccbd-642a3b63e37c"
      },
      "source": [
        "plt.figure(figsize=(3,5))\n",
        "df_stroke=df.loc[df['stroke']==1]\n",
        "sns.countplot(data=df_stroke,x='Residence_type')"
      ],
      "execution_count": null,
      "outputs": [
        {
          "output_type": "execute_result",
          "data": {
            "text/plain": [
              "<AxesSubplot:xlabel='Residence_type', ylabel='count'>"
            ]
          },
          "metadata": {
            "tags": []
          },
          "execution_count": 280
        },
        {
          "output_type": "display_data",
          "data": {
            "text/plain": [
              "<Figure size 216x360 with 1 Axes>"
            ],
            "image/png": "[encoded data removed]"
          },
          "metadata": {
            "tags": [],
            "needs_background": "light"
          }
        }
      ]
    },
    {
      "cell_type": "code",
      "metadata": {
        "execution": {
          "iopub.status.busy": "2021-05-21T08:49:03.654276Z",
          "iopub.execute_input": "2021-05-21T08:49:03.655007Z",
          "iopub.status.idle": "2021-05-21T08:49:03.787193Z",
          "shell.execute_reply.started": "2021-05-21T08:49:03.654967Z",
          "shell.execute_reply": "2021-05-21T08:49:03.785956Z"
        },
        "trusted": true,
        "id": "69sS_IjKPs_a",
        "outputId": "7a19598d-e2e7-4e08-bb7e-30fd0a6bb6c5"
      },
      "source": [
        "plt.figure(figsize=(3,5))\n",
        "df_stroke=df.loc[df['stroke']==0]\n",
        "sns.countplot(data=df_stroke,x='Residence_type')"
      ],
      "execution_count": null,
      "outputs": [
        {
          "output_type": "execute_result",
          "data": {
            "text/plain": [
              "<AxesSubplot:xlabel='Residence_type', ylabel='count'>"
            ]
          },
          "metadata": {
            "tags": []
          },
          "execution_count": 281
        },
        {
          "output_type": "display_data",
          "data": {
            "text/plain": [
              "<Figure size 216x360 with 1 Axes>"
            ],
            "image/png": "[encoded data removed]"
          },
          "metadata": {
            "tags": [],
            "needs_background": "light"
          }
        }
      ]
    },
    {
      "cell_type": "markdown",
      "metadata": {
        "id": "XelfZEfCPs_b"
      },
      "source": [
        "Resident type does not seem to be a relevant influental factor for stroke."
      ]
    },
    {
      "cell_type": "markdown",
      "metadata": {
        "id": "z80muQV3Ps_b"
      },
      "source": [
        "### Smoking status and stroke"
      ]
    },
    {
      "cell_type": "code",
      "metadata": {
        "execution": {
          "iopub.status.busy": "2021-05-21T07:18:51.133393Z",
          "iopub.execute_input": "2021-05-21T07:18:51.133901Z",
          "iopub.status.idle": "2021-05-21T07:18:51.287270Z",
          "shell.execute_reply.started": "2021-05-21T07:18:51.133858Z",
          "shell.execute_reply": "2021-05-21T07:18:51.286099Z"
        },
        "trusted": true,
        "id": "bHLhCDBjPs_c",
        "outputId": "ac4b0565-a77e-4ba4-d6e6-497974aaa800"
      },
      "source": [
        "plt.figure(figsize=(7,5))\n",
        "df_stroke=df.loc[df['stroke']==1]\n",
        "sns.countplot(data=df_stroke,x='smoking_status')"
      ],
      "execution_count": null,
      "outputs": [
        {
          "output_type": "execute_result",
          "data": {
            "text/plain": [
              "<AxesSubplot:xlabel='smoking_status', ylabel='count'>"
            ]
          },
          "metadata": {
            "tags": []
          },
          "execution_count": 182
        },
        {
          "output_type": "display_data",
          "data": {
            "text/plain": [
              "<Figure size 504x360 with 1 Axes>"
            ],
            "image/png": "[encoded data removed]"
          },
          "metadata": {
            "tags": [],
            "needs_background": "light"
          }
        }
      ]
    },
    {
      "cell_type": "code",
      "metadata": {
        "execution": {
          "iopub.status.busy": "2021-05-21T07:18:51.290364Z",
          "iopub.execute_input": "2021-05-21T07:18:51.290696Z",
          "iopub.status.idle": "2021-05-21T07:18:51.438277Z",
          "shell.execute_reply.started": "2021-05-21T07:18:51.290665Z",
          "shell.execute_reply": "2021-05-21T07:18:51.437368Z"
        },
        "trusted": true,
        "id": "94ZHTaIPPs_c",
        "outputId": "9e8ddfb2-637b-4fb1-8b02-06e5bd261142"
      },
      "source": [
        "plt.figure(figsize=(7,5))\n",
        "df_stroke=df.loc[df['stroke']==0]\n",
        "sns.countplot(data=df_stroke,x='smoking_status')"
      ],
      "execution_count": null,
      "outputs": [
        {
          "output_type": "execute_result",
          "data": {
            "text/plain": [
              "<AxesSubplot:xlabel='smoking_status', ylabel='count'>"
            ]
          },
          "metadata": {
            "tags": []
          },
          "execution_count": 183
        },
        {
          "output_type": "display_data",
          "data": {
            "text/plain": [
              "<Figure size 504x360 with 1 Axes>"
            ],
            "image/png": "[encoded data removed]"
          },
          "metadata": {
            "tags": [],
            "needs_background": "light"
          }
        }
      ]
    },
    {
      "cell_type": "markdown",
      "metadata": {
        "id": "I44MA49DPs_d"
      },
      "source": [
        "Difficult to draw conclusions due to large number of \"Unknown\"."
      ]
    },
    {
      "cell_type": "markdown",
      "metadata": {
        "id": "omf18uxbPs_d"
      },
      "source": [
        "### Age and stroke"
      ]
    },
    {
      "cell_type": "code",
      "metadata": {
        "execution": {
          "iopub.status.busy": "2021-05-21T07:18:51.439427Z",
          "iopub.execute_input": "2021-05-21T07:18:51.439714Z",
          "iopub.status.idle": "2021-05-21T07:18:51.657033Z",
          "shell.execute_reply.started": "2021-05-21T07:18:51.439679Z",
          "shell.execute_reply": "2021-05-21T07:18:51.655853Z"
        },
        "trusted": true,
        "id": "wgjnukf6Ps_d",
        "outputId": "8aafbae1-5d3a-4546-c566-690afc70260e"
      },
      "source": [
        "sns.kdeplot(df['age'], data = df, hue = 'stroke', fill=True)"
      ],
      "execution_count": null,
      "outputs": [
        {
          "output_type": "execute_result",
          "data": {
            "text/plain": [
              "<AxesSubplot:xlabel='age', ylabel='Density'>"
            ]
          },
          "metadata": {
            "tags": []
          },
          "execution_count": 184
        },
        {
          "output_type": "display_data",
          "data": {
            "text/plain": [
              "<Figure size 432x288 with 1 Axes>"
            ],
            "image/png": "[encoded data removed]"
          },
          "metadata": {
            "tags": [],
            "needs_background": "light"
          }
        }
      ]
    },
    {
      "cell_type": "markdown",
      "metadata": {
        "id": "oZHpenpCPs_e"
      },
      "source": [
        "* dataset with good age distribution\n",
        "* stroke is more frequent in older age"
      ]
    },
    {
      "cell_type": "markdown",
      "metadata": {
        "id": "jpbir86ZPs_e"
      },
      "source": [
        "### BMI and stroke"
      ]
    },
    {
      "cell_type": "code",
      "metadata": {
        "execution": {
          "iopub.status.busy": "2021-05-21T07:18:51.658727Z",
          "iopub.execute_input": "2021-05-21T07:18:51.659161Z",
          "iopub.status.idle": "2021-05-21T07:18:51.863494Z",
          "shell.execute_reply.started": "2021-05-21T07:18:51.659114Z",
          "shell.execute_reply": "2021-05-21T07:18:51.862407Z"
        },
        "trusted": true,
        "id": "f6t9CkJBPs_f",
        "outputId": "1c68577b-e989-4ef2-ac4a-a57e24011a9b"
      },
      "source": [
        "sns.kdeplot(df['bmi'], data = df, hue = 'stroke', fill=True)"
      ],
      "execution_count": null,
      "outputs": [
        {
          "output_type": "execute_result",
          "data": {
            "text/plain": [
              "<AxesSubplot:xlabel='bmi', ylabel='Density'>"
            ]
          },
          "metadata": {
            "tags": []
          },
          "execution_count": 185
        },
        {
          "output_type": "display_data",
          "data": {
            "text/plain": [
              "<Figure size 432x288 with 1 Axes>"
            ],
            "image/png": "[encoded data removed]"
          },
          "metadata": {
            "tags": [],
            "needs_background": "light"
          }
        }
      ]
    },
    {
      "cell_type": "markdown",
      "metadata": {
        "id": "wKff6DoyPs_f"
      },
      "source": [
        "Stroke does not seem to correlate with bmi."
      ]
    },
    {
      "cell_type": "markdown",
      "metadata": {
        "id": "icr4Cz0nPs_g"
      },
      "source": [
        "### Glucose level and stroke"
      ]
    },
    {
      "cell_type": "code",
      "metadata": {
        "execution": {
          "iopub.status.busy": "2021-05-21T07:18:51.868143Z",
          "iopub.execute_input": "2021-05-21T07:18:51.868472Z",
          "iopub.status.idle": "2021-05-21T07:18:52.099275Z",
          "shell.execute_reply.started": "2021-05-21T07:18:51.868442Z",
          "shell.execute_reply": "2021-05-21T07:18:52.098334Z"
        },
        "trusted": true,
        "id": "OvGk5BLuPs_g",
        "outputId": "5bfac734-6598-4ad6-9f01-d93230c69da1"
      },
      "source": [
        "sns.kdeplot(df['avg_glucose_level'], data = df, hue = 'stroke', fill=True)"
      ],
      "execution_count": null,
      "outputs": [
        {
          "output_type": "execute_result",
          "data": {
            "text/plain": [
              "<AxesSubplot:xlabel='avg_glucose_level', ylabel='Density'>"
            ]
          },
          "metadata": {
            "tags": []
          },
          "execution_count": 186
        },
        {
          "output_type": "display_data",
          "data": {
            "text/plain": [
              "<Figure size 432x288 with 1 Axes>"
            ],
            "image/png": "[encoded data removed]"
          },
          "metadata": {
            "tags": [],
            "needs_background": "light"
          }
        }
      ]
    },
    {
      "cell_type": "markdown",
      "metadata": {
        "id": "qqJIZ5DnPs_g"
      },
      "source": [
        "Difficult to draw conclusions due to low number of stroke patients in dataset. "
      ]
    },
    {
      "cell_type": "code",
      "metadata": {
        "execution": {
          "iopub.status.busy": "2021-05-21T07:18:52.101085Z",
          "iopub.execute_input": "2021-05-21T07:18:52.101411Z",
          "iopub.status.idle": "2021-05-21T07:18:52.420017Z",
          "shell.execute_reply.started": "2021-05-21T07:18:52.101379Z",
          "shell.execute_reply": "2021-05-21T07:18:52.419067Z"
        },
        "trusted": true,
        "id": "_D78mRJKPs_h",
        "outputId": "5854d21d-8d23-4ba7-c9c4-85a4792d2fae"
      },
      "source": [
        "df_corr = df.drop(columns=['id']).select_dtypes(include=np.number)\n",
        "\n",
        "# Compute the correlation matrix\n",
        "corr = df_corr.corr()\n",
        "\n",
        "# Generate a mask for the upper triangle\n",
        "mask = np.triu(np.ones_like(corr, dtype=bool))\n",
        "\n",
        "# Set up the matplotlib figure\n",
        "f, ax = plt.subplots(figsize=(7, 7))\n",
        "\n",
        "# Generate a custom diverging colormap\n",
        "cmap = sns.diverging_palette(20, 230, as_cmap=True)\n",
        "\n",
        "# Draw the heatmap with the mask and correct aspect ratio\n",
        "sns.heatmap(corr, mask=mask, cmap=cmap, vmin =-1, vmax=1, annot=True, fmt='.2f' ,center=0, square=True, linewidths=.5, cbar_kws={\"shrink\": .5})"
      ],
      "execution_count": null,
      "outputs": [
        {
          "output_type": "execute_result",
          "data": {
            "text/plain": [
              "<AxesSubplot:>"
            ]
          },
          "metadata": {
            "tags": []
          },
          "execution_count": 187
        },
        {
          "output_type": "display_data",
          "data": {
            "text/plain": [
              "<Figure size 504x504 with 2 Axes>"
            ],
            "image/png": "[encoded data removed]"
          },
          "metadata": {
            "tags": [],
            "needs_background": "light"
          }
        }
      ]
    },
    {
      "cell_type": "markdown",
      "metadata": {
        "id": "g3YQeNslPs_i"
      },
      "source": [
        "* strongest correlation between age with bmi, hypertension, heart_disease, avg_glucose_level and stroke (descending order)\n",
        "* stroke correlates weakly with hypertension, heart_disease and avg_glucose_level\n",
        "* no correlation of stroke with bmi"
      ]
    },
    {
      "cell_type": "markdown",
      "metadata": {
        "id": "7nbaDg3fPs_j"
      },
      "source": [
        "## Data preprocessing"
      ]
    },
    {
      "cell_type": "markdown",
      "metadata": {
        "id": "O1N-TWy1Ps_j"
      },
      "source": [
        "### Dropping feature 'id\""
      ]
    },
    {
      "cell_type": "code",
      "metadata": {
        "execution": {
          "iopub.status.busy": "2021-05-21T07:18:52.421468Z",
          "iopub.execute_input": "2021-05-21T07:18:52.421859Z",
          "iopub.status.idle": "2021-05-21T07:18:52.427644Z",
          "shell.execute_reply.started": "2021-05-21T07:18:52.421817Z",
          "shell.execute_reply": "2021-05-21T07:18:52.426686Z"
        },
        "trusted": true,
        "id": "6Rxg4rkOPs_j"
      },
      "source": [
        "#Drop \"id\" feature -> no predictive value\n",
        "df.drop('id', axis='columns', inplace=True)"
      ],
      "execution_count": null,
      "outputs": []
    },
    {
      "cell_type": "markdown",
      "metadata": {
        "id": "3D5KQWfePs_k"
      },
      "source": [
        "### Addressing imbalance within dataset of classes stroke / non-stroke"
      ]
    },
    {
      "cell_type": "code",
      "metadata": {
        "execution": {
          "iopub.status.busy": "2021-05-21T07:18:52.429082Z",
          "iopub.execute_input": "2021-05-21T07:18:52.429682Z",
          "iopub.status.idle": "2021-05-21T07:18:52.441473Z",
          "shell.execute_reply.started": "2021-05-21T07:18:52.429639Z",
          "shell.execute_reply": "2021-05-21T07:18:52.440559Z"
        },
        "trusted": true,
        "id": "ELRiMMG0Ps_k",
        "outputId": "67117a89-8a2a-4730-c7a9-974f3c31735d"
      },
      "source": [
        "df['stroke'].value_counts()"
      ],
      "execution_count": null,
      "outputs": [
        {
          "output_type": "execute_result",
          "data": {
            "text/plain": [
              "0    4700\n",
              "1     209\n",
              "Name: stroke, dtype: int64"
            ]
          },
          "metadata": {
            "tags": []
          },
          "execution_count": 189
        }
      ]
    },
    {
      "cell_type": "code",
      "metadata": {
        "execution": {
          "iopub.status.busy": "2021-05-21T07:18:52.442699Z",
          "iopub.execute_input": "2021-05-21T07:18:52.443047Z",
          "iopub.status.idle": "2021-05-21T07:18:52.467858Z",
          "shell.execute_reply.started": "2021-05-21T07:18:52.443019Z",
          "shell.execute_reply": "2021-05-21T07:18:52.466973Z"
        },
        "trusted": true,
        "id": "IH2xn47cPs_l",
        "outputId": "5e8dcbd5-2702-46b3-d193-727d43a005ad"
      },
      "source": [
        "#Upsampling minority class: stroke = 1\n",
        "df_majority = df[df['stroke']==0]\n",
        "df_minority = df[df['stroke']==1]\n",
        "\n",
        "df_minority_upsampled = resample(df_minority, replace = True, n_samples=4700, random_state=21)\n",
        "\n",
        "df_upsampled = pd.concat([df_majority, df_minority_upsampled])\n",
        "\n",
        "df_upsampled['stroke'].value_counts()"
      ],
      "execution_count": null,
      "outputs": [
        {
          "output_type": "execute_result",
          "data": {
            "text/plain": [
              "0    4700\n",
              "1    4700\n",
              "Name: stroke, dtype: int64"
            ]
          },
          "metadata": {
            "tags": []
          },
          "execution_count": 190
        }
      ]
    },
    {
      "cell_type": "markdown",
      "metadata": {
        "id": "hVBFFhVzPs_l"
      },
      "source": [
        "### Deal with categorical data"
      ]
    },
    {
      "cell_type": "code",
      "metadata": {
        "execution": {
          "iopub.status.busy": "2021-05-21T07:18:52.469324Z",
          "iopub.execute_input": "2021-05-21T07:18:52.469743Z",
          "iopub.status.idle": "2021-05-21T07:18:52.475055Z",
          "shell.execute_reply.started": "2021-05-21T07:18:52.469701Z",
          "shell.execute_reply": "2021-05-21T07:18:52.474089Z"
        },
        "trusted": true,
        "id": "qNTseIhIPs_m"
      },
      "source": [
        "#One hot encoding\n",
        "def create_dummies(df,column_name):\n",
        "    dummies = pd.get_dummies(df[column_name],prefix=column_name)\n",
        "    df = pd.concat([df,dummies],axis=1)\n",
        "    return df"
      ],
      "execution_count": null,
      "outputs": []
    },
    {
      "cell_type": "code",
      "metadata": {
        "execution": {
          "iopub.status.busy": "2021-05-21T07:18:52.476680Z",
          "iopub.execute_input": "2021-05-21T07:18:52.477339Z",
          "iopub.status.idle": "2021-05-21T07:18:52.533847Z",
          "shell.execute_reply.started": "2021-05-21T07:18:52.477294Z",
          "shell.execute_reply": "2021-05-21T07:18:52.532828Z"
        },
        "trusted": true,
        "id": "4Nhd3aJPPs_m",
        "outputId": "0e86c9d4-acba-4d35-9047-01c39cff1ceb"
      },
      "source": [
        "df_upsampled = create_dummies(df_upsampled,\"gender\")\n",
        "df_upsampled = create_dummies(df_upsampled,\"ever_married\")\n",
        "df_upsampled = create_dummies(df_upsampled,\"work_type\")\n",
        "df_upsampled = create_dummies(df_upsampled,\"Residence_type\")\n",
        "df_upsampled = create_dummies(df_upsampled,\"smoking_status\")\n",
        "df_upsampled.head()\n"
      ],
      "execution_count": null,
      "outputs": [
        {
          "output_type": "execute_result",
          "data": {
            "text/plain": [
              "     gender   age  hypertension  heart_disease ever_married     work_type  \\\n",
              "249    Male   3.0             0              0           No      children   \n",
              "250    Male  58.0             1              0          Yes       Private   \n",
              "251  Female   8.0             0              0           No       Private   \n",
              "252  Female  70.0             0              0          Yes       Private   \n",
              "253    Male  14.0             0              0           No  Never_worked   \n",
              "\n",
              "    Residence_type  avg_glucose_level   bmi   smoking_status  stroke  \\\n",
              "249          Rural              95.12  18.0          Unknown       0   \n",
              "250          Urban              87.96  39.2     never smoked       0   \n",
              "251          Urban             110.89  17.6          Unknown       0   \n",
              "252          Rural              69.04  35.9  formerly smoked       0   \n",
              "253          Rural             161.28  19.1          Unknown       0   \n",
              "\n",
              "     gender_Female  gender_Male  gender_Other  ever_married_No  \\\n",
              "249              0            1             0                1   \n",
              "250              0            1             0                0   \n",
              "251              1            0             0                1   \n",
              "252              1            0             0                0   \n",
              "253              0            1             0                1   \n",
              "\n",
              "     ever_married_Yes  work_type_Govt_job  work_type_Never_worked  \\\n",
              "249                 0                   0                       0   \n",
              "250                 1                   0                       0   \n",
              "251                 0                   0                       0   \n",
              "252                 1                   0                       0   \n",
              "253                 0                   0                       1   \n",
              "\n",
              "     work_type_Private  work_type_Self-employed  work_type_children  \\\n",
              "249                  0                        0                   1   \n",
              "250                  1                        0                   0   \n",
              "251                  1                        0                   0   \n",
              "252                  1                        0                   0   \n",
              "253                  0                        0                   0   \n",
              "\n",
              "     Residence_type_Rural  Residence_type_Urban  smoking_status_Unknown  \\\n",
              "249                     1                     0                       1   \n",
              "250                     0                     1                       0   \n",
              "251                     0                     1                       1   \n",
              "252                     1                     0                       0   \n",
              "253                     1                     0                       1   \n",
              "\n",
              "     smoking_status_formerly smoked  smoking_status_never smoked  \\\n",
              "249                               0                            0   \n",
              "250                               0                            1   \n",
              "251                               0                            0   \n",
              "252                               1                            0   \n",
              "253                               0                            0   \n",
              "\n",
              "     smoking_status_smokes  \n",
              "249                      0  \n",
              "250                      0  \n",
              "251                      0  \n",
              "252                      0  \n",
              "253                      0  "
            ],
            "text/html": [
              "<div>\n",
              "<style scoped>\n",
              "    .dataframe tbody tr th:only-of-type {\n",
              "        vertical-align: middle;\n",
              "    }\n",
              "\n",
              "    .dataframe tbody tr th {\n",
              "        vertical-align: top;\n",
              "    }\n",
              "\n",
              "    .dataframe thead th {\n",
              "        text-align: right;\n",
              "    }\n",
              "</style>\n",
              "<table border=\"1\" class=\"dataframe\">\n",
              "  <thead>\n",
              "    <tr style=\"text-align: right;\">\n",
              "      <th></th>\n",
              "      <th>gender</th>\n",
              "      <th>age</th>\n",
              "      <th>hypertension</th>\n",
              "      <th>heart_disease</th>\n",
              "      <th>ever_married</th>\n",
              "      <th>work_type</th>\n",
              "      <th>Residence_type</th>\n",
              "      <th>avg_glucose_level</th>\n",
              "      <th>bmi</th>\n",
              "      <th>smoking_status</th>\n",
              "      <th>stroke</th>\n",
              "      <th>gender_Female</th>\n",
              "      <th>gender_Male</th>\n",
              "      <th>gender_Other</th>\n",
              "      <th>ever_married_No</th>\n",
              "      <th>ever_married_Yes</th>\n",
              "      <th>work_type_Govt_job</th>\n",
              "      <th>work_type_Never_worked</th>\n",
              "      <th>work_type_Private</th>\n",
              "      <th>work_type_Self-employed</th>\n",
              "      <th>work_type_children</th>\n",
              "      <th>Residence_type_Rural</th>\n",
              "      <th>Residence_type_Urban</th>\n",
              "      <th>smoking_status_Unknown</th>\n",
              "      <th>smoking_status_formerly smoked</th>\n",
              "      <th>smoking_status_never smoked</th>\n",
              "      <th>smoking_status_smokes</th>\n",
              "    </tr>\n",
              "  </thead>\n",
              "  <tbody>\n",
              "    <tr>\n",
              "      <th>249</th>\n",
              "      <td>Male</td>\n",
              "      <td>3.0</td>\n",
              "      <td>0</td>\n",
              "      <td>0</td>\n",
              "      <td>No</td>\n",
              "      <td>children</td>\n",
              "      <td>Rural</td>\n",
              "      <td>95.12</td>\n",
              "      <td>18.0</td>\n",
              "      <td>Unknown</td>\n",
              "      <td>0</td>\n",
              "      <td>0</td>\n",
              "      <td>1</td>\n",
              "      <td>0</td>\n",
              "      <td>1</td>\n",
              "      <td>0</td>\n",
              "      <td>0</td>\n",
              "      <td>0</td>\n",
              "      <td>0</td>\n",
              "      <td>0</td>\n",
              "      <td>1</td>\n",
              "      <td>1</td>\n",
              "      <td>0</td>\n",
              "      <td>1</td>\n",
              "      <td>0</td>\n",
              "      <td>0</td>\n",
              "      <td>0</td>\n",
              "    </tr>\n",
              "    <tr>\n",
              "      <th>250</th>\n",
              "      <td>Male</td>\n",
              "      <td>58.0</td>\n",
              "      <td>1</td>\n",
              "      <td>0</td>\n",
              "      <td>Yes</td>\n",
              "      <td>Private</td>\n",
              "      <td>Urban</td>\n",
              "      <td>87.96</td>\n",
              "      <td>39.2</td>\n",
              "      <td>never smoked</td>\n",
              "      <td>0</td>\n",
              "      <td>0</td>\n",
              "      <td>1</td>\n",
              "      <td>0</td>\n",
              "      <td>0</td>\n",
              "      <td>1</td>\n",
              "      <td>0</td>\n",
              "      <td>0</td>\n",
              "      <td>1</td>\n",
              "      <td>0</td>\n",
              "      <td>0</td>\n",
              "      <td>0</td>\n",
              "      <td>1</td>\n",
              "      <td>0</td>\n",
              "      <td>0</td>\n",
              "      <td>1</td>\n",
              "      <td>0</td>\n",
              "    </tr>\n",
              "    <tr>\n",
              "      <th>251</th>\n",
              "      <td>Female</td>\n",
              "      <td>8.0</td>\n",
              "      <td>0</td>\n",
              "      <td>0</td>\n",
              "      <td>No</td>\n",
              "      <td>Private</td>\n",
              "      <td>Urban</td>\n",
              "      <td>110.89</td>\n",
              "      <td>17.6</td>\n",
              "      <td>Unknown</td>\n",
              "      <td>0</td>\n",
              "      <td>1</td>\n",
              "      <td>0</td>\n",
              "      <td>0</td>\n",
              "      <td>1</td>\n",
              "      <td>0</td>\n",
              "      <td>0</td>\n",
              "      <td>0</td>\n",
              "      <td>1</td>\n",
              "      <td>0</td>\n",
              "      <td>0</td>\n",
              "      <td>0</td>\n",
              "      <td>1</td>\n",
              "      <td>1</td>\n",
              "      <td>0</td>\n",
              "      <td>0</td>\n",
              "      <td>0</td>\n",
              "    </tr>\n",
              "    <tr>\n",
              "      <th>252</th>\n",
              "      <td>Female</td>\n",
              "      <td>70.0</td>\n",
              "      <td>0</td>\n",
              "      <td>0</td>\n",
              "      <td>Yes</td>\n",
              "      <td>Private</td>\n",
              "      <td>Rural</td>\n",
              "      <td>69.04</td>\n",
              "      <td>35.9</td>\n",
              "      <td>formerly smoked</td>\n",
              "      <td>0</td>\n",
              "      <td>1</td>\n",
              "      <td>0</td>\n",
              "      <td>0</td>\n",
              "      <td>0</td>\n",
              "      <td>1</td>\n",
              "      <td>0</td>\n",
              "      <td>0</td>\n",
              "      <td>1</td>\n",
              "      <td>0</td>\n",
              "      <td>0</td>\n",
              "      <td>1</td>\n",
              "      <td>0</td>\n",
              "      <td>0</td>\n",
              "      <td>1</td>\n",
              "      <td>0</td>\n",
              "      <td>0</td>\n",
              "    </tr>\n",
              "    <tr>\n",
              "      <th>253</th>\n",
              "      <td>Male</td>\n",
              "      <td>14.0</td>\n",
              "      <td>0</td>\n",
              "      <td>0</td>\n",
              "      <td>No</td>\n",
              "      <td>Never_worked</td>\n",
              "      <td>Rural</td>\n",
              "      <td>161.28</td>\n",
              "      <td>19.1</td>\n",
              "      <td>Unknown</td>\n",
              "      <td>0</td>\n",
              "      <td>0</td>\n",
              "      <td>1</td>\n",
              "      <td>0</td>\n",
              "      <td>1</td>\n",
              "      <td>0</td>\n",
              "      <td>0</td>\n",
              "      <td>1</td>\n",
              "      <td>0</td>\n",
              "      <td>0</td>\n",
              "      <td>0</td>\n",
              "      <td>1</td>\n",
              "      <td>0</td>\n",
              "      <td>1</td>\n",
              "      <td>0</td>\n",
              "      <td>0</td>\n",
              "      <td>0</td>\n",
              "    </tr>\n",
              "  </tbody>\n",
              "</table>\n",
              "</div>"
            ]
          },
          "metadata": {
            "tags": []
          },
          "execution_count": 192
        }
      ]
    },
    {
      "cell_type": "code",
      "metadata": {
        "execution": {
          "iopub.status.busy": "2021-05-21T07:18:52.535398Z",
          "iopub.execute_input": "2021-05-21T07:18:52.536033Z",
          "iopub.status.idle": "2021-05-21T07:18:52.561774Z",
          "shell.execute_reply.started": "2021-05-21T07:18:52.535987Z",
          "shell.execute_reply": "2021-05-21T07:18:52.560801Z"
        },
        "trusted": true,
        "id": "03jkyvEOPs_m",
        "outputId": "a006936a-1e85-4b76-fe53-014bee7137ba"
      },
      "source": [
        "df_upsampled.head()"
      ],
      "execution_count": null,
      "outputs": [
        {
          "output_type": "execute_result",
          "data": {
            "text/plain": [
              "     gender   age  hypertension  heart_disease ever_married     work_type  \\\n",
              "249    Male   3.0             0              0           No      children   \n",
              "250    Male  58.0             1              0          Yes       Private   \n",
              "251  Female   8.0             0              0           No       Private   \n",
              "252  Female  70.0             0              0          Yes       Private   \n",
              "253    Male  14.0             0              0           No  Never_worked   \n",
              "\n",
              "    Residence_type  avg_glucose_level   bmi   smoking_status  stroke  \\\n",
              "249          Rural              95.12  18.0          Unknown       0   \n",
              "250          Urban              87.96  39.2     never smoked       0   \n",
              "251          Urban             110.89  17.6          Unknown       0   \n",
              "252          Rural              69.04  35.9  formerly smoked       0   \n",
              "253          Rural             161.28  19.1          Unknown       0   \n",
              "\n",
              "     gender_Female  gender_Male  gender_Other  ever_married_No  \\\n",
              "249              0            1             0                1   \n",
              "250              0            1             0                0   \n",
              "251              1            0             0                1   \n",
              "252              1            0             0                0   \n",
              "253              0            1             0                1   \n",
              "\n",
              "     ever_married_Yes  work_type_Govt_job  work_type_Never_worked  \\\n",
              "249                 0                   0                       0   \n",
              "250                 1                   0                       0   \n",
              "251                 0                   0                       0   \n",
              "252                 1                   0                       0   \n",
              "253                 0                   0                       1   \n",
              "\n",
              "     work_type_Private  work_type_Self-employed  work_type_children  \\\n",
              "249                  0                        0                   1   \n",
              "250                  1                        0                   0   \n",
              "251                  1                        0                   0   \n",
              "252                  1                        0                   0   \n",
              "253                  0                        0                   0   \n",
              "\n",
              "     Residence_type_Rural  Residence_type_Urban  smoking_status_Unknown  \\\n",
              "249                     1                     0                       1   \n",
              "250                     0                     1                       0   \n",
              "251                     0                     1                       1   \n",
              "252                     1                     0                       0   \n",
              "253                     1                     0                       1   \n",
              "\n",
              "     smoking_status_formerly smoked  smoking_status_never smoked  \\\n",
              "249                               0                            0   \n",
              "250                               0                            1   \n",
              "251                               0                            0   \n",
              "252                               1                            0   \n",
              "253                               0                            0   \n",
              "\n",
              "     smoking_status_smokes  \n",
              "249                      0  \n",
              "250                      0  \n",
              "251                      0  \n",
              "252                      0  \n",
              "253                      0  "
            ],
            "text/html": [
              "<div>\n",
              "<style scoped>\n",
              "    .dataframe tbody tr th:only-of-type {\n",
              "        vertical-align: middle;\n",
              "    }\n",
              "\n",
              "    .dataframe tbody tr th {\n",
              "        vertical-align: top;\n",
              "    }\n",
              "\n",
              "    .dataframe thead th {\n",
              "        text-align: right;\n",
              "    }\n",
              "</style>\n",
              "<table border=\"1\" class=\"dataframe\">\n",
              "  <thead>\n",
              "    <tr style=\"text-align: right;\">\n",
              "      <th></th>\n",
              "      <th>gender</th>\n",
              "      <th>age</th>\n",
              "      <th>hypertension</th>\n",
              "      <th>heart_disease</th>\n",
              "      <th>ever_married</th>\n",
              "      <th>work_type</th>\n",
              "      <th>Residence_type</th>\n",
              "      <th>avg_glucose_level</th>\n",
              "      <th>bmi</th>\n",
              "      <th>smoking_status</th>\n",
              "      <th>stroke</th>\n",
              "      <th>gender_Female</th>\n",
              "      <th>gender_Male</th>\n",
              "      <th>gender_Other</th>\n",
              "      <th>ever_married_No</th>\n",
              "      <th>ever_married_Yes</th>\n",
              "      <th>work_type_Govt_job</th>\n",
              "      <th>work_type_Never_worked</th>\n",
              "      <th>work_type_Private</th>\n",
              "      <th>work_type_Self-employed</th>\n",
              "      <th>work_type_children</th>\n",
              "      <th>Residence_type_Rural</th>\n",
              "      <th>Residence_type_Urban</th>\n",
              "      <th>smoking_status_Unknown</th>\n",
              "      <th>smoking_status_formerly smoked</th>\n",
              "      <th>smoking_status_never smoked</th>\n",
              "      <th>smoking_status_smokes</th>\n",
              "    </tr>\n",
              "  </thead>\n",
              "  <tbody>\n",
              "    <tr>\n",
              "      <th>249</th>\n",
              "      <td>Male</td>\n",
              "      <td>3.0</td>\n",
              "      <td>0</td>\n",
              "      <td>0</td>\n",
              "      <td>No</td>\n",
              "      <td>children</td>\n",
              "      <td>Rural</td>\n",
              "      <td>95.12</td>\n",
              "      <td>18.0</td>\n",
              "      <td>Unknown</td>\n",
              "      <td>0</td>\n",
              "      <td>0</td>\n",
              "      <td>1</td>\n",
              "      <td>0</td>\n",
              "      <td>1</td>\n",
              "      <td>0</td>\n",
              "      <td>0</td>\n",
              "      <td>0</td>\n",
              "      <td>0</td>\n",
              "      <td>0</td>\n",
              "      <td>1</td>\n",
              "      <td>1</td>\n",
              "      <td>0</td>\n",
              "      <td>1</td>\n",
              "      <td>0</td>\n",
              "      <td>0</td>\n",
              "      <td>0</td>\n",
              "    </tr>\n",
              "    <tr>\n",
              "      <th>250</th>\n",
              "      <td>Male</td>\n",
              "      <td>58.0</td>\n",
              "      <td>1</td>\n",
              "      <td>0</td>\n",
              "      <td>Yes</td>\n",
              "      <td>Private</td>\n",
              "      <td>Urban</td>\n",
              "      <td>87.96</td>\n",
              "      <td>39.2</td>\n",
              "      <td>never smoked</td>\n",
              "      <td>0</td>\n",
              "      <td>0</td>\n",
              "      <td>1</td>\n",
              "      <td>0</td>\n",
              "      <td>0</td>\n",
              "      <td>1</td>\n",
              "      <td>0</td>\n",
              "      <td>0</td>\n",
              "      <td>1</td>\n",
              "      <td>0</td>\n",
              "      <td>0</td>\n",
              "      <td>0</td>\n",
              "      <td>1</td>\n",
              "      <td>0</td>\n",
              "      <td>0</td>\n",
              "      <td>1</td>\n",
              "      <td>0</td>\n",
              "    </tr>\n",
              "    <tr>\n",
              "      <th>251</th>\n",
              "      <td>Female</td>\n",
              "      <td>8.0</td>\n",
              "      <td>0</td>\n",
              "      <td>0</td>\n",
              "      <td>No</td>\n",
              "      <td>Private</td>\n",
              "      <td>Urban</td>\n",
              "      <td>110.89</td>\n",
              "      <td>17.6</td>\n",
              "      <td>Unknown</td>\n",
              "      <td>0</td>\n",
              "      <td>1</td>\n",
              "      <td>0</td>\n",
              "      <td>0</td>\n",
              "      <td>1</td>\n",
              "      <td>0</td>\n",
              "      <td>0</td>\n",
              "      <td>0</td>\n",
              "      <td>1</td>\n",
              "      <td>0</td>\n",
              "      <td>0</td>\n",
              "      <td>0</td>\n",
              "      <td>1</td>\n",
              "      <td>1</td>\n",
              "      <td>0</td>\n",
              "      <td>0</td>\n",
              "      <td>0</td>\n",
              "    </tr>\n",
              "    <tr>\n",
              "      <th>252</th>\n",
              "      <td>Female</td>\n",
              "      <td>70.0</td>\n",
              "      <td>0</td>\n",
              "      <td>0</td>\n",
              "      <td>Yes</td>\n",
              "      <td>Private</td>\n",
              "      <td>Rural</td>\n",
              "      <td>69.04</td>\n",
              "      <td>35.9</td>\n",
              "      <td>formerly smoked</td>\n",
              "      <td>0</td>\n",
              "      <td>1</td>\n",
              "      <td>0</td>\n",
              "      <td>0</td>\n",
              "      <td>0</td>\n",
              "      <td>1</td>\n",
              "      <td>0</td>\n",
              "      <td>0</td>\n",
              "      <td>1</td>\n",
              "      <td>0</td>\n",
              "      <td>0</td>\n",
              "      <td>1</td>\n",
              "      <td>0</td>\n",
              "      <td>0</td>\n",
              "      <td>1</td>\n",
              "      <td>0</td>\n",
              "      <td>0</td>\n",
              "    </tr>\n",
              "    <tr>\n",
              "      <th>253</th>\n",
              "      <td>Male</td>\n",
              "      <td>14.0</td>\n",
              "      <td>0</td>\n",
              "      <td>0</td>\n",
              "      <td>No</td>\n",
              "      <td>Never_worked</td>\n",
              "      <td>Rural</td>\n",
              "      <td>161.28</td>\n",
              "      <td>19.1</td>\n",
              "      <td>Unknown</td>\n",
              "      <td>0</td>\n",
              "      <td>0</td>\n",
              "      <td>1</td>\n",
              "      <td>0</td>\n",
              "      <td>1</td>\n",
              "      <td>0</td>\n",
              "      <td>0</td>\n",
              "      <td>1</td>\n",
              "      <td>0</td>\n",
              "      <td>0</td>\n",
              "      <td>0</td>\n",
              "      <td>1</td>\n",
              "      <td>0</td>\n",
              "      <td>1</td>\n",
              "      <td>0</td>\n",
              "      <td>0</td>\n",
              "      <td>0</td>\n",
              "    </tr>\n",
              "  </tbody>\n",
              "</table>\n",
              "</div>"
            ]
          },
          "metadata": {
            "tags": []
          },
          "execution_count": 193
        }
      ]
    },
    {
      "cell_type": "markdown",
      "metadata": {
        "id": "srYnkqXVPs_m"
      },
      "source": [
        "## Comparing different models"
      ]
    },
    {
      "cell_type": "code",
      "metadata": {
        "execution": {
          "iopub.status.busy": "2021-05-21T07:18:52.562890Z",
          "iopub.execute_input": "2021-05-21T07:18:52.563164Z",
          "iopub.status.idle": "2021-05-21T07:18:52.569884Z",
          "shell.execute_reply.started": "2021-05-21T07:18:52.563138Z",
          "shell.execute_reply": "2021-05-21T07:18:52.568911Z"
        },
        "trusted": true,
        "id": "JgzwvlYtPs_n",
        "outputId": "1afa9b70-3a6f-4256-9817-9d6ff61b573a"
      },
      "source": [
        "df_upsampled.columns"
      ],
      "execution_count": null,
      "outputs": [
        {
          "output_type": "execute_result",
          "data": {
            "text/plain": [
              "Index(['gender', 'age', 'hypertension', 'heart_disease', 'ever_married',\n",
              "       'work_type', 'Residence_type', 'avg_glucose_level', 'bmi',\n",
              "       'smoking_status', 'stroke', 'gender_Female', 'gender_Male',\n",
              "       'gender_Other', 'ever_married_No', 'ever_married_Yes',\n",
              "       'work_type_Govt_job', 'work_type_Never_worked', 'work_type_Private',\n",
              "       'work_type_Self-employed', 'work_type_children', 'Residence_type_Rural',\n",
              "       'Residence_type_Urban', 'smoking_status_Unknown',\n",
              "       'smoking_status_formerly smoked', 'smoking_status_never smoked',\n",
              "       'smoking_status_smokes'],\n",
              "      dtype='object')"
            ]
          },
          "metadata": {
            "tags": []
          },
          "execution_count": 194
        }
      ]
    },
    {
      "cell_type": "markdown",
      "metadata": {
        "id": "SBkthzc-Ps_n"
      },
      "source": [
        "### Define target variable"
      ]
    },
    {
      "cell_type": "code",
      "metadata": {
        "execution": {
          "iopub.status.busy": "2021-05-21T07:18:52.570831Z",
          "iopub.execute_input": "2021-05-21T07:18:52.571094Z",
          "iopub.status.idle": "2021-05-21T07:18:52.587709Z",
          "shell.execute_reply.started": "2021-05-21T07:18:52.571068Z",
          "shell.execute_reply": "2021-05-21T07:18:52.586519Z"
        },
        "trusted": true,
        "id": "TZvjDUuBPs_n"
      },
      "source": [
        "columns = ['age', 'hypertension', 'heart_disease', 'avg_glucose_level', 'bmi',\n",
        "       'gender_Female', 'gender_Male', 'gender_Other',\n",
        "       'ever_married_No', 'ever_married_Yes', 'work_type_Govt_job',\n",
        "       'work_type_Never_worked', 'work_type_Private',\n",
        "       'work_type_Self-employed', 'work_type_children', 'Residence_type_Rural',\n",
        "       'Residence_type_Urban', 'smoking_status_Unknown',\n",
        "       'smoking_status_formerly smoked', 'smoking_status_never smoked',\n",
        "       'smoking_status_smokes']\n",
        "\n",
        "X = df_upsampled[columns]\n",
        "y = df_upsampled['stroke']\n"
      ],
      "execution_count": null,
      "outputs": []
    },
    {
      "cell_type": "markdown",
      "metadata": {
        "id": "x1AEPLbkPs_n"
      },
      "source": [
        "### Split dataset into trainingset and testset "
      ]
    },
    {
      "cell_type": "code",
      "metadata": {
        "execution": {
          "iopub.status.busy": "2021-05-21T07:18:52.588989Z",
          "iopub.execute_input": "2021-05-21T07:18:52.589281Z",
          "iopub.status.idle": "2021-05-21T07:18:52.602588Z",
          "shell.execute_reply.started": "2021-05-21T07:18:52.589252Z",
          "shell.execute_reply": "2021-05-21T07:18:52.601634Z"
        },
        "trusted": true,
        "id": "RRbO5kEoPs_n"
      },
      "source": [
        "train_X, test_X, train_y, test_y = train_test_split(X, y, test_size=0.3,random_state=0)"
      ],
      "execution_count": null,
      "outputs": []
    },
    {
      "cell_type": "markdown",
      "metadata": {
        "id": "ALGIOAl3Ps_n"
      },
      "source": [
        "### Feature scaling to account for models sensitivity to range of data  (not needed for Decision tree and random forest classifier)"
      ]
    },
    {
      "cell_type": "code",
      "metadata": {
        "execution": {
          "iopub.status.busy": "2021-05-21T07:18:52.604439Z",
          "iopub.execute_input": "2021-05-21T07:18:52.604855Z",
          "iopub.status.idle": "2021-05-21T07:18:52.626259Z",
          "shell.execute_reply.started": "2021-05-21T07:18:52.604811Z",
          "shell.execute_reply": "2021-05-21T07:18:52.625215Z"
        },
        "trusted": true,
        "id": "aeQSW_iLPs_n"
      },
      "source": [
        "from sklearn.preprocessing import StandardScaler\n",
        "sc = StandardScaler()\n",
        "X_train_scaled = sc.fit_transform(train_X)\n",
        "X_test_scaled = sc.transform (test_X)"
      ],
      "execution_count": null,
      "outputs": []
    },
    {
      "cell_type": "markdown",
      "metadata": {
        "id": "W_0_MH8sPs_o"
      },
      "source": [
        "### Logistic regression¶"
      ]
    },
    {
      "cell_type": "markdown",
      "metadata": {
        "id": "gx71E0NIPs_o"
      },
      "source": [
        "Fit the model"
      ]
    },
    {
      "cell_type": "code",
      "metadata": {
        "execution": {
          "iopub.status.busy": "2021-05-21T07:45:19.580178Z",
          "iopub.execute_input": "2021-05-21T07:45:19.580585Z",
          "iopub.status.idle": "2021-05-21T07:45:19.629008Z",
          "shell.execute_reply.started": "2021-05-21T07:45:19.580541Z",
          "shell.execute_reply": "2021-05-21T07:45:19.627821Z"
        },
        "trusted": true,
        "id": "bCJ4KQW_Ps_o"
      },
      "source": [
        "from sklearn.linear_model import LogisticRegression\n",
        "lr = LogisticRegression()\n",
        "lr.fit(X_train_scaled, train_y)\n",
        "prediction_lr = lr.predict(X_test_scaled)"
      ],
      "execution_count": null,
      "outputs": []
    },
    {
      "cell_type": "markdown",
      "metadata": {
        "id": "4GKJuF8wPs_o"
      },
      "source": [
        "Get performance results of logistic regression"
      ]
    },
    {
      "cell_type": "code",
      "metadata": {
        "execution": {
          "iopub.status.busy": "2021-05-21T07:45:26.453843Z",
          "iopub.execute_input": "2021-05-21T07:45:26.454493Z",
          "iopub.status.idle": "2021-05-21T07:45:26.476801Z",
          "shell.execute_reply.started": "2021-05-21T07:45:26.454444Z",
          "shell.execute_reply": "2021-05-21T07:45:26.475805Z"
        },
        "trusted": true,
        "id": "pCzjfTrBPs_o",
        "outputId": "468b024a-59cb-4206-ab82-69c5dc58cdce"
      },
      "source": [
        "from sklearn.metrics import classification_report, confusion_matrix\n",
        "print(confusion_matrix(test_y, prediction_lr))\n",
        "print(classification_report(test_y, prediction_lr))"
      ],
      "execution_count": null,
      "outputs": [
        {
          "output_type": "stream",
          "text": [
            "[[1043  373]\n",
            " [ 245 1159]]\n",
            "              precision    recall  f1-score   support\n",
            "\n",
            "           0       0.81      0.74      0.77      1416\n",
            "           1       0.76      0.83      0.79      1404\n",
            "\n",
            "    accuracy                           0.78      2820\n",
            "   macro avg       0.78      0.78      0.78      2820\n",
            "weighted avg       0.78      0.78      0.78      2820\n",
            "\n"
          ],
          "name": "stdout"
        }
      ]
    },
    {
      "cell_type": "markdown",
      "metadata": {
        "id": "yRjbx6iEPs_o"
      },
      "source": [
        "Trying to improve performance of logisitic regression using hyperparameter tuning"
      ]
    },
    {
      "cell_type": "code",
      "metadata": {
        "execution": {
          "iopub.status.busy": "2021-05-21T07:44:45.883774Z",
          "iopub.execute_input": "2021-05-21T07:44:45.884175Z",
          "iopub.status.idle": "2021-05-21T07:44:50.463893Z",
          "shell.execute_reply.started": "2021-05-21T07:44:45.884142Z",
          "shell.execute_reply": "2021-05-21T07:44:50.462621Z"
        },
        "trusted": true,
        "id": "IofFJRw2Ps_o",
        "outputId": "cf942516-ac59-4c2e-8d59-4c3f1db0b69a"
      },
      "source": [
        "import warnings\n",
        "from scipy.stats import randint\n",
        "from sklearn.model_selection import RandomizedSearchCV\n",
        "\n",
        "param_grid_lr = {'C': [0.001, 0.01, 0.1, 1, 10, 100, 1000], 'penalty': ['l1', 'l2'], 'max_iter': list(range(100,800,100)), 'solver': ['newton-cg', 'lbfgs', 'liblinear', 'sag', 'saga']}\n",
        "\n",
        "lr_2 = LogisticRegression()\n",
        "lr_2_model = RandomizedSearchCV(lr_2, param_grid_lr, cv = 5)\n",
        "lr_2_model.fit(X_train_scaled, train_y)\n",
        "prediction_lr_2 = lr_2_model.best_estimator_.predict(X_test_scaled)\n",
        "\n",
        "print(\"Tuned Logistic Regression Parameters: {}\".format(lr_2_model.best_params_)) \n",
        "print(\"Best score is {}\".format(lr_2_model.best_score_))\n",
        "\n",
        "print(confusion_matrix(test_y,prediction_lr_2))\n",
        "print(classification_report(test_y,prediction_lr_2))\n",
        "\n"
      ],
      "execution_count": null,
      "outputs": [
        {
          "output_type": "stream",
          "text": [
            "Tuned Logistic Regression Parameters: {'solver': 'sag', 'penalty': 'l2', 'max_iter': 100, 'C': 1}\n",
            "Best score is 0.7794832826747721\n",
            "[[1043  373]\n",
            " [ 245 1159]]\n",
            "              precision    recall  f1-score   support\n",
            "\n",
            "           0       0.81      0.74      0.77      1416\n",
            "           1       0.76      0.83      0.79      1404\n",
            "\n",
            "    accuracy                           0.78      2820\n",
            "   macro avg       0.78      0.78      0.78      2820\n",
            "weighted avg       0.78      0.78      0.78      2820\n",
            "\n"
          ],
          "name": "stdout"
        }
      ]
    },
    {
      "cell_type": "markdown",
      "metadata": {
        "id": "LXYL2-O4Ps_p"
      },
      "source": [
        "### Decision tree classifier (scaling not needed,  because model is not sensitive to the the variance in the data)"
      ]
    },
    {
      "cell_type": "markdown",
      "metadata": {
        "id": "rdMk7X5cPs_p"
      },
      "source": [
        "Fit the model"
      ]
    },
    {
      "cell_type": "code",
      "metadata": {
        "execution": {
          "iopub.status.busy": "2021-05-21T07:46:35.587524Z",
          "iopub.execute_input": "2021-05-21T07:46:35.587950Z",
          "iopub.status.idle": "2021-05-21T07:46:35.617034Z",
          "shell.execute_reply.started": "2021-05-21T07:46:35.587912Z",
          "shell.execute_reply": "2021-05-21T07:46:35.616032Z"
        },
        "trusted": true,
        "id": "Cfg8bOLlPs_p"
      },
      "source": [
        "from sklearn.tree import DecisionTreeClassifier \n",
        "from sklearn import metrics \n",
        "\n",
        "dtc = DecisionTreeClassifier()\n",
        "dtc = dtc_1.fit(train_X, train_y)\n",
        "prediction_dtc = dtc_1.predict(test_X)"
      ],
      "execution_count": null,
      "outputs": []
    },
    {
      "cell_type": "markdown",
      "metadata": {
        "id": "i9jtIni5Ps_p"
      },
      "source": [
        "Get performance results of the decision tree model"
      ]
    },
    {
      "cell_type": "code",
      "metadata": {
        "execution": {
          "iopub.status.busy": "2021-05-21T07:46:37.892590Z",
          "iopub.execute_input": "2021-05-21T07:46:37.893031Z",
          "iopub.status.idle": "2021-05-21T07:46:37.916318Z",
          "shell.execute_reply.started": "2021-05-21T07:46:37.892990Z",
          "shell.execute_reply": "2021-05-21T07:46:37.915344Z"
        },
        "trusted": true,
        "id": "JDxNI7hGPs_p",
        "outputId": "44d46569-9edf-4440-8184-a2bc8d57d7b5"
      },
      "source": [
        "from sklearn.metrics import classification_report, confusion_matrix\n",
        "print(confusion_matrix(test_y, prediction_dtc))\n",
        "print(classification_report(test_y, prediction_dtc))"
      ],
      "execution_count": null,
      "outputs": [
        {
          "output_type": "stream",
          "text": [
            "[[1345   71]\n",
            " [   0 1404]]\n",
            "              precision    recall  f1-score   support\n",
            "\n",
            "           0       1.00      0.95      0.97      1416\n",
            "           1       0.95      1.00      0.98      1404\n",
            "\n",
            "    accuracy                           0.97      2820\n",
            "   macro avg       0.98      0.97      0.97      2820\n",
            "weighted avg       0.98      0.97      0.97      2820\n",
            "\n"
          ],
          "name": "stdout"
        }
      ]
    },
    {
      "cell_type": "markdown",
      "metadata": {
        "id": "nS2nHIjEPs_q"
      },
      "source": [
        "Trying to improve performance of decision tree model using hyperparameter tuning"
      ]
    },
    {
      "cell_type": "code",
      "metadata": {
        "execution": {
          "iopub.status.busy": "2021-05-21T07:47:30.550728Z",
          "iopub.execute_input": "2021-05-21T07:47:30.551135Z",
          "iopub.status.idle": "2021-05-21T07:47:31.081774Z",
          "shell.execute_reply.started": "2021-05-21T07:47:30.551104Z",
          "shell.execute_reply": "2021-05-21T07:47:31.080979Z"
        },
        "trusted": true,
        "id": "HdO9Ljc5Ps_q",
        "outputId": "775951df-9e31-4ff0-cefd-8d298cbe0310"
      },
      "source": [
        "import warnings\n",
        "from scipy.stats import randint\n",
        "from sklearn.model_selection import RandomizedSearchCV\n",
        "\n",
        "param_grid_dtc = {\"max_depth\": [3,None], \"max_features\":randint(1,5), \"min_samples_leaf\":randint(1,9), \"criterion\": [\"gini\", \"entropy\"]}\n",
        "dtc_2 =DecisionTreeClassifier()\n",
        "dtc_2_model = RandomizedSearchCV(dtc_2, param_grid_dtc, cv = 5)\n",
        "dtc_2_model.fit(train_X, train_y)\n",
        "prediction_dtc_2 = dtc_2_model.best_estimator_.predict(test_X)\n",
        "\n",
        "print(\"Tuned Decision Tree Parameters: {}\".format(dtc_2_model.best_params_)) \n",
        "print(\"Best score is {}\".format(dtc_2_model.best_score_))\n",
        "\n",
        "print(confusion_matrix(test_y, prediction_dtc_2))\n",
        "print(classification_report(test_y,prediction_dtc_2))\n"
      ],
      "execution_count": null,
      "outputs": [
        {
          "output_type": "stream",
          "text": [
            "Tuned Decision Tree Parameters: {'criterion': 'entropy', 'max_depth': None, 'max_features': 4, 'min_samples_leaf': 1}\n",
            "Best score is 0.9732522796352583\n",
            "[[1343   73]\n",
            " [   0 1404]]\n",
            "              precision    recall  f1-score   support\n",
            "\n",
            "           0       1.00      0.95      0.97      1416\n",
            "           1       0.95      1.00      0.97      1404\n",
            "\n",
            "    accuracy                           0.97      2820\n",
            "   macro avg       0.98      0.97      0.97      2820\n",
            "weighted avg       0.98      0.97      0.97      2820\n",
            "\n"
          ],
          "name": "stdout"
        }
      ]
    },
    {
      "cell_type": "markdown",
      "metadata": {
        "id": "xXHfadVMPs_q"
      },
      "source": [
        "### Random Forest Classifier (no scaling needed)"
      ]
    },
    {
      "cell_type": "markdown",
      "metadata": {
        "id": "YISTqzM9Ps_q"
      },
      "source": [
        "Fit the model and get performance results"
      ]
    },
    {
      "cell_type": "code",
      "metadata": {
        "execution": {
          "iopub.status.busy": "2021-05-21T07:48:13.147408Z",
          "iopub.execute_input": "2021-05-21T07:48:13.147782Z",
          "iopub.status.idle": "2021-05-21T07:48:13.746167Z",
          "shell.execute_reply.started": "2021-05-21T07:48:13.147753Z",
          "shell.execute_reply": "2021-05-21T07:48:13.745360Z"
        },
        "trusted": true,
        "id": "iq8FlwkkPs_q",
        "outputId": "f6a60049-5dce-4838-c8d3-971a8809bec1"
      },
      "source": [
        "from sklearn.ensemble import RandomForestClassifier\n",
        "rfc=RandomForestClassifier()\n",
        "rfc.fit(train_X, train_y)\n",
        "prediction_rfc=rfc.predict(test_X)\n",
        "\n",
        "print(confusion_matrix(test_y, prediction_rfc))\n",
        "print(classification_report(test_y, prediction_rfc))\n"
      ],
      "execution_count": null,
      "outputs": [
        {
          "output_type": "stream",
          "text": [
            "[[1392   24]\n",
            " [   0 1404]]\n",
            "              precision    recall  f1-score   support\n",
            "\n",
            "           0       1.00      0.98      0.99      1416\n",
            "           1       0.98      1.00      0.99      1404\n",
            "\n",
            "    accuracy                           0.99      2820\n",
            "   macro avg       0.99      0.99      0.99      2820\n",
            "weighted avg       0.99      0.99      0.99      2820\n",
            "\n"
          ],
          "name": "stdout"
        }
      ]
    },
    {
      "cell_type": "markdown",
      "metadata": {
        "id": "pxyvB7FsPs_q"
      },
      "source": [
        "Trying to improve performance of the random forest model using hyperparameter tuning"
      ]
    },
    {
      "cell_type": "code",
      "metadata": {
        "execution": {
          "iopub.status.busy": "2021-05-21T07:48:32.072140Z",
          "iopub.execute_input": "2021-05-21T07:48:32.072674Z",
          "iopub.status.idle": "2021-05-21T07:49:23.222796Z",
          "shell.execute_reply.started": "2021-05-21T07:48:32.072638Z",
          "shell.execute_reply": "2021-05-21T07:49:23.221854Z"
        },
        "trusted": true,
        "id": "0QAkg9zxPs_q",
        "outputId": "53a7f869-fd48-4f27-8152-c6171d620853"
      },
      "source": [
        "param_grid_rfc = {'bootstrap': [True, False], 'max_depth': [10, 20, 30, 40, 50, 60, 70, 80, 90, 100, 110, None], 'max_features': ['auto', 'sqrt'], 'min_samples_leaf': [1, 2, 4], 'min_samples_split': [2, 5, 10], 'n_estimators': [130, 180, 230]}\n",
        "rfc_2 =RandomForestClassifier()\n",
        "rfc_2_model = RandomizedSearchCV(rfc_2, param_grid_rfc, cv = 5)\n",
        "rfc_2_model.fit(train_X, train_y)\n",
        "prediction_rfc_2 = rfc_2_model.best_estimator_.predict(test_X)\n",
        "\n",
        "print(\"Tuned RFC Parameters: {}\".format(rfc_2_model.best_params_)) \n",
        "print(\"Best score is {}\".format(rfc_2_model.best_score_))\n",
        "\n",
        "print(confusion_matrix(test_y, prediction_rfc_2))\n",
        "print(classification_report(test_y,prediction_rfc_2))"
      ],
      "execution_count": null,
      "outputs": [
        {
          "output_type": "stream",
          "text": [
            "Tuned RFC Parameters: {'n_estimators': 230, 'min_samples_split': 5, 'min_samples_leaf': 1, 'max_features': 'sqrt', 'max_depth': 60, 'bootstrap': False}\n",
            "Best score is 0.9919452887537993\n",
            "[[1399   17]\n",
            " [   0 1404]]\n",
            "              precision    recall  f1-score   support\n",
            "\n",
            "           0       1.00      0.99      0.99      1416\n",
            "           1       0.99      1.00      0.99      1404\n",
            "\n",
            "    accuracy                           0.99      2820\n",
            "   macro avg       0.99      0.99      0.99      2820\n",
            "weighted avg       0.99      0.99      0.99      2820\n",
            "\n"
          ],
          "name": "stdout"
        }
      ]
    },
    {
      "cell_type": "markdown",
      "metadata": {
        "id": "ao-G9iSlPs_r"
      },
      "source": [
        "Evaluating feature importance in the random forest model by feature permutation: Feature permutation calculates the permutation importance by permuting the values for a single feature and making predictions using the resulting dataset. "
      ]
    },
    {
      "cell_type": "code",
      "metadata": {
        "execution": {
          "iopub.status.busy": "2021-05-21T09:03:27.472094Z",
          "iopub.execute_input": "2021-05-21T09:03:27.472699Z",
          "iopub.status.idle": "2021-05-21T09:03:40.779816Z",
          "shell.execute_reply.started": "2021-05-21T09:03:27.472665Z",
          "shell.execute_reply": "2021-05-21T09:03:40.779117Z"
        },
        "trusted": true,
        "id": "dPJq7DVZPs_r",
        "outputId": "4d1e65c1-1a89-4d23-f99e-c0a7565011a2"
      },
      "source": [
        "import eli5\n",
        "from eli5.sklearn import PermutationImportance\n",
        "\n",
        "perm = PermutationImportance(rfc_2_model, random_state=0).fit(test_X, test_y)\n",
        "eli5.show_weights(perm, feature_names = test_X.columns.tolist(), top=5)"
      ],
      "execution_count": null,
      "outputs": [
        {
          "output_type": "execute_result",
          "data": {
            "text/plain": [
              "<IPython.core.display.HTML object>"
            ],
            "text/html": [
              "\n",
              "    <style>\n",
              "    table.eli5-weights tr:hover {\n",
              "        filter: brightness(85%);\n",
              "    }\n",
              "</style>\n",
              "\n",
              "\n",
              "\n",
              "    \n",
              "\n",
              "    \n",
              "\n",
              "    \n",
              "\n",
              "    \n",
              "\n",
              "    \n",
              "\n",
              "    \n",
              "\n",
              "\n",
              "    \n",
              "\n",
              "    \n",
              "\n",
              "    \n",
              "\n",
              "    \n",
              "\n",
              "    \n",
              "\n",
              "    \n",
              "\n",
              "\n",
              "    \n",
              "\n",
              "    \n",
              "\n",
              "    \n",
              "\n",
              "    \n",
              "\n",
              "    \n",
              "        <table class=\"eli5-weights eli5-feature-importances\" style=\"border-collapse: collapse; border: none; margin-top: 0em; table-layout: auto;\">\n",
              "    <thead>\n",
              "    <tr style=\"border: none;\">\n",
              "        <th style=\"padding: 0 1em 0 0.5em; text-align: right; border: none;\">Weight</th>\n",
              "        <th style=\"padding: 0 0.5em 0 0.5em; text-align: left; border: none;\">Feature</th>\n",
              "    </tr>\n",
              "    </thead>\n",
              "    <tbody>\n",
              "    \n",
              "        <tr style=\"background-color: hsl(120, 100.00%, 80.00%); border: none;\">\n",
              "            <td style=\"padding: 0 1em 0 0.5em; text-align: right; border: none;\">\n",
              "                0.3278\n",
              "                \n",
              "                    &plusmn; 0.0064\n",
              "                \n",
              "            </td>\n",
              "            <td style=\"padding: 0 0.5em 0 0.5em; text-align: left; border: none;\">\n",
              "                age\n",
              "            </td>\n",
              "        </tr>\n",
              "    \n",
              "        <tr style=\"background-color: hsl(120, 100.00%, 81.72%); border: none;\">\n",
              "            <td style=\"padding: 0 1em 0 0.5em; text-align: right; border: none;\">\n",
              "                0.2883\n",
              "                \n",
              "                    &plusmn; 0.0101\n",
              "                \n",
              "            </td>\n",
              "            <td style=\"padding: 0 0.5em 0 0.5em; text-align: left; border: none;\">\n",
              "                avg_glucose_level\n",
              "            </td>\n",
              "        </tr>\n",
              "    \n",
              "        <tr style=\"background-color: hsl(120, 100.00%, 85.97%); border: none;\">\n",
              "            <td style=\"padding: 0 1em 0 0.5em; text-align: right; border: none;\">\n",
              "                0.1975\n",
              "                \n",
              "                    &plusmn; 0.0054\n",
              "                \n",
              "            </td>\n",
              "            <td style=\"padding: 0 0.5em 0 0.5em; text-align: left; border: none;\">\n",
              "                bmi\n",
              "            </td>\n",
              "        </tr>\n",
              "    \n",
              "        <tr style=\"background-color: hsl(120, 100.00%, 88.88%); border: none;\">\n",
              "            <td style=\"padding: 0 1em 0 0.5em; text-align: right; border: none;\">\n",
              "                0.1417\n",
              "                \n",
              "                    &plusmn; 0.0081\n",
              "                \n",
              "            </td>\n",
              "            <td style=\"padding: 0 0.5em 0 0.5em; text-align: left; border: none;\">\n",
              "                hypertension\n",
              "            </td>\n",
              "        </tr>\n",
              "    \n",
              "        <tr style=\"background-color: hsl(120, 100.00%, 91.69%); border: none;\">\n",
              "            <td style=\"padding: 0 1em 0 0.5em; text-align: right; border: none;\">\n",
              "                0.0935\n",
              "                \n",
              "                    &plusmn; 0.0032\n",
              "                \n",
              "            </td>\n",
              "            <td style=\"padding: 0 0.5em 0 0.5em; text-align: left; border: none;\">\n",
              "                heart_disease\n",
              "            </td>\n",
              "        </tr>\n",
              "    \n",
              "    \n",
              "        \n",
              "            <tr style=\"background-color: hsl(120, 100.00%, 91.69%); border: none;\">\n",
              "                <td colspan=\"2\" style=\"padding: 0 0.5em 0 0.5em; text-align: center; border: none; white-space: nowrap;\">\n",
              "                    <i>&hellip; 16 more &hellip;</i>\n",
              "                </td>\n",
              "            </tr>\n",
              "        \n",
              "    \n",
              "    </tbody>\n",
              "</table>\n",
              "    \n",
              "\n",
              "    \n",
              "\n",
              "\n",
              "    \n",
              "\n",
              "    \n",
              "\n",
              "    \n",
              "\n",
              "    \n",
              "\n",
              "    \n",
              "\n",
              "    \n",
              "\n",
              "\n",
              "\n"
            ]
          },
          "metadata": {
            "tags": []
          },
          "execution_count": 290
        }
      ]
    },
    {
      "cell_type": "markdown",
      "metadata": {
        "id": "f2vEKfoGPs_r"
      },
      "source": [
        "Age, avg_glucose_level and bmi are the most important features for the random forest model."
      ]
    },
    {
      "cell_type": "markdown",
      "metadata": {
        "id": "mF5NsPRGPs_r"
      },
      "source": [
        "### Support vector machine "
      ]
    },
    {
      "cell_type": "markdown",
      "metadata": {
        "id": "BwH5QZO3Ps_r"
      },
      "source": [
        "Fit the model and get performance results"
      ]
    },
    {
      "cell_type": "code",
      "metadata": {
        "execution": {
          "iopub.status.busy": "2021-05-21T07:19:47.419201Z",
          "iopub.execute_input": "2021-05-21T07:19:47.419533Z",
          "iopub.status.idle": "2021-05-21T07:19:49.792661Z",
          "shell.execute_reply.started": "2021-05-21T07:19:47.419501Z",
          "shell.execute_reply": "2021-05-21T07:19:49.791549Z"
        },
        "trusted": true,
        "id": "qKkRfk4IPs_r",
        "outputId": "5c969fb8-973c-4fb2-9301-b56d02ea1a1c"
      },
      "source": [
        "from sklearn import svm\n",
        "svc = svm.SVC()\n",
        "svc.fit(X_train_scaled, train_y)\n",
        "prediction_svc = svc.predict(X_test_scaled)\n",
        "\n",
        "print(confusion_matrix(test_y, prediction_svc))\n",
        "print(classification_report(test_y,prediction_svc))"
      ],
      "execution_count": null,
      "outputs": [
        {
          "output_type": "stream",
          "text": [
            "[[1098  318]\n",
            " [  87 1317]]\n",
            "              precision    recall  f1-score   support\n",
            "\n",
            "           0       0.93      0.78      0.84      1416\n",
            "           1       0.81      0.94      0.87      1404\n",
            "\n",
            "    accuracy                           0.86      2820\n",
            "   macro avg       0.87      0.86      0.86      2820\n",
            "weighted avg       0.87      0.86      0.86      2820\n",
            "\n"
          ],
          "name": "stdout"
        }
      ]
    },
    {
      "cell_type": "code",
      "metadata": {
        "execution": {
          "iopub.status.busy": "2021-05-21T07:50:37.515522Z",
          "iopub.execute_input": "2021-05-21T07:50:37.516105Z",
          "iopub.status.idle": "2021-05-21T07:51:50.689268Z",
          "shell.execute_reply.started": "2021-05-21T07:50:37.516063Z",
          "shell.execute_reply": "2021-05-21T07:51:50.688411Z"
        },
        "trusted": true,
        "id": "P3UJw-00Ps_s",
        "outputId": "f5c9c384-ee08-4d01-9fc9-e2ff09d0766e"
      },
      "source": [
        "param_grid_svc = {'C': [0.1, 1, 10, 100, 1000], 'gamma': [1, 0.1, 0.01, 0.001, 0.0001]} \n",
        "\n",
        "svc_2 = svm.SVC()\n",
        "svc_2_model = RandomizedSearchCV(svc_2, param_grid_svc, cv = 5)\n",
        "svc_2_model.fit(X_train_scaled, train_y)\n",
        "prediction_svc_2 = svc_2_model.best_estimator_.predict(X_test_scaled)\n",
        "\n",
        "print(\"Tuned RFC Parameters: {}\".format(svc_2_model.best_params_)) \n",
        "print(\"Best score is {}\".format(svc_2_model.best_score_))\n",
        "\n",
        "print(confusion_matrix(test_y, prediction_svc_2))\n",
        "print(classification_report(test_y,prediction_svc_2))"
      ],
      "execution_count": null,
      "outputs": [
        {
          "output_type": "stream",
          "text": [
            "Tuned RFC Parameters: {'gamma': 1, 'C': 10}\n",
            "Best score is 0.9685410334346505\n",
            "[[1346   70]\n",
            " [   0 1404]]\n",
            "              precision    recall  f1-score   support\n",
            "\n",
            "           0       1.00      0.95      0.97      1416\n",
            "           1       0.95      1.00      0.98      1404\n",
            "\n",
            "    accuracy                           0.98      2820\n",
            "   macro avg       0.98      0.98      0.98      2820\n",
            "weighted avg       0.98      0.98      0.98      2820\n",
            "\n"
          ],
          "name": "stdout"
        }
      ]
    },
    {
      "cell_type": "markdown",
      "metadata": {
        "id": "DFxSxfmoPs_s"
      },
      "source": [
        "### K-nearest neighbor"
      ]
    },
    {
      "cell_type": "markdown",
      "metadata": {
        "id": "4nyONDFiPs_s"
      },
      "source": [
        "Fit the model and get performance results"
      ]
    },
    {
      "cell_type": "code",
      "metadata": {
        "execution": {
          "iopub.status.busy": "2021-05-21T07:19:49.793940Z",
          "iopub.execute_input": "2021-05-21T07:19:49.794260Z",
          "iopub.status.idle": "2021-05-21T07:19:50.377896Z",
          "shell.execute_reply.started": "2021-05-21T07:19:49.794217Z",
          "shell.execute_reply": "2021-05-21T07:19:50.376786Z"
        },
        "trusted": true,
        "id": "Sb2_xrxxPs_s",
        "outputId": "975e37b0-e2d3-45ce-d154-c5e91fa82f23"
      },
      "source": [
        "from sklearn.neighbors import KNeighborsClassifier\n",
        "knn = KNeighborsClassifier()\n",
        "knn.fit(X_train_scaled, train_y)\n",
        "prediction_knn = knn.predict(X_test_scaled)\n",
        "\n",
        "print(confusion_matrix(test_y, prediction_knn))\n",
        "print(classification_report(test_y,prediction_knn))"
      ],
      "execution_count": null,
      "outputs": [
        {
          "output_type": "stream",
          "text": [
            "[[1219  197]\n",
            " [   0 1404]]\n",
            "              precision    recall  f1-score   support\n",
            "\n",
            "           0       1.00      0.86      0.93      1416\n",
            "           1       0.88      1.00      0.93      1404\n",
            "\n",
            "    accuracy                           0.93      2820\n",
            "   macro avg       0.94      0.93      0.93      2820\n",
            "weighted avg       0.94      0.93      0.93      2820\n",
            "\n"
          ],
          "name": "stdout"
        }
      ]
    },
    {
      "cell_type": "markdown",
      "metadata": {
        "id": "F-yrdypRPs_s"
      },
      "source": [
        "Trying to improve performance of the knn model using hyperparameter tuning"
      ]
    },
    {
      "cell_type": "code",
      "metadata": {
        "execution": {
          "iopub.status.busy": "2021-05-21T07:19:50.380440Z",
          "iopub.execute_input": "2021-05-21T07:19:50.380907Z",
          "iopub.status.idle": "2021-05-21T07:19:56.687868Z",
          "shell.execute_reply.started": "2021-05-21T07:19:50.380861Z",
          "shell.execute_reply": "2021-05-21T07:19:56.687035Z"
        },
        "trusted": true,
        "id": "OM3lBpjoPs_s",
        "outputId": "ce0c98a4-cbb1-4c87-bdbc-5ef9af0e26ab"
      },
      "source": [
        "param_grid_knn = {'n_neighbors': [3,5,11, 13, 15, 17, 19], 'weights': ['uniform', 'distance'], 'metric': ['euclidean', 'manhatten']}\n",
        "knn_2 = KNeighborsClassifier()\n",
        "knn_2_model = RandomizedSearchCV(knn_2, param_grid_knn, cv = 5)\n",
        "knn_2_model.fit(X_train_scaled, train_y)\n",
        "prediction_knn = knn_2_model.best_estimator_.predict(X_test_scaled)\n",
        "\n",
        "print(\"Tuned KNN Parameters: {}\".format(knn_2_model.best_params_)) \n",
        "print(\"Best score is {}\".format(knn_2_model.best_score_))\n",
        "\n",
        "print(confusion_matrix(test_y, prediction_knn))\n",
        "print(classification_report(test_y,prediction_knn))"
      ],
      "execution_count": null,
      "outputs": [
        {
          "output_type": "stream",
          "text": [
            "Tuned KNN Parameters: {'weights': 'distance', 'n_neighbors': 3, 'metric': 'euclidean'}\n",
            "Best score is 0.9430091185410335\n",
            "[[1299  117]\n",
            " [   0 1404]]\n",
            "              precision    recall  f1-score   support\n",
            "\n",
            "           0       1.00      0.92      0.96      1416\n",
            "           1       0.92      1.00      0.96      1404\n",
            "\n",
            "    accuracy                           0.96      2820\n",
            "   macro avg       0.96      0.96      0.96      2820\n",
            "weighted avg       0.96      0.96      0.96      2820\n",
            "\n"
          ],
          "name": "stdout"
        }
      ]
    },
    {
      "cell_type": "markdown",
      "metadata": {
        "id": "r1cT02LMPs_t"
      },
      "source": [
        "### Keras"
      ]
    },
    {
      "cell_type": "markdown",
      "metadata": {
        "id": "Od1tK4X0Ps_t"
      },
      "source": [
        "Define the model"
      ]
    },
    {
      "cell_type": "code",
      "metadata": {
        "execution": {
          "iopub.status.busy": "2021-05-21T08:18:52.918509Z",
          "iopub.execute_input": "2021-05-21T08:18:52.919012Z",
          "iopub.status.idle": "2021-05-21T08:18:52.952544Z",
          "shell.execute_reply.started": "2021-05-21T08:18:52.918981Z",
          "shell.execute_reply": "2021-05-21T08:18:52.951538Z"
        },
        "trusted": true,
        "id": "HmFfaj08Ps_t"
      },
      "source": [
        "from keras.models import Sequential\n",
        "from keras.layers import Dense\n",
        "keras_model = Sequential()\n",
        "keras_model.add(Dense(256, input_dim=21, activation='relu'))\n",
        "keras_model.add(Dense(10, activation='relu'))\n",
        "keras_model.add(Dense(1, activation='sigmoid'))"
      ],
      "execution_count": null,
      "outputs": []
    },
    {
      "cell_type": "markdown",
      "metadata": {
        "id": "zBFTHhg9Ps_t"
      },
      "source": [
        "Compile the model"
      ]
    },
    {
      "cell_type": "code",
      "metadata": {
        "execution": {
          "iopub.status.busy": "2021-05-21T08:18:56.961362Z",
          "iopub.execute_input": "2021-05-21T08:18:56.961711Z",
          "iopub.status.idle": "2021-05-21T08:18:56.975671Z",
          "shell.execute_reply.started": "2021-05-21T08:18:56.961682Z",
          "shell.execute_reply": "2021-05-21T08:18:56.974508Z"
        },
        "trusted": true,
        "id": "w03peuzNPs_t"
      },
      "source": [
        "keras_model.compile(loss='binary_crossentropy', optimizer='adam', metrics=['accuracy'])"
      ],
      "execution_count": null,
      "outputs": []
    },
    {
      "cell_type": "markdown",
      "metadata": {
        "id": "YNycbC9HPs_t"
      },
      "source": [
        "Fit the model"
      ]
    },
    {
      "cell_type": "code",
      "metadata": {
        "execution": {
          "iopub.status.busy": "2021-05-21T08:19:00.402421Z",
          "iopub.execute_input": "2021-05-21T08:19:00.402944Z",
          "iopub.status.idle": "2021-05-21T08:20:58.839102Z",
          "shell.execute_reply.started": "2021-05-21T08:19:00.402909Z",
          "shell.execute_reply": "2021-05-21T08:20:58.838008Z"
        },
        "trusted": true,
        "id": "ar8eLuZtPs_t",
        "outputId": "f4f871f5-928e-4996-d99c-f4e721667c2b"
      },
      "source": [
        "keras_model.fit(X_train_scaled, train_y, epochs=150, batch_size=10)"
      ],
      "execution_count": null,
      "outputs": [
        {
          "output_type": "stream",
          "text": [
            "Epoch 1/150\n",
            "658/658 [==============================] - 1s 1ms/step - loss: 0.5135 - accuracy: 0.7512\n",
            "Epoch 2/150\n",
            "658/658 [==============================] - 1s 1ms/step - loss: 0.4007 - accuracy: 0.8168\n",
            "Epoch 3/150\n",
            "658/658 [==============================] - 1s 1ms/step - loss: 0.3642 - accuracy: 0.8354\n",
            "Epoch 4/150\n",
            "658/658 [==============================] - 1s 1ms/step - loss: 0.3458 - accuracy: 0.8477\n",
            "Epoch 5/150\n",
            "658/658 [==============================] - 1s 1ms/step - loss: 0.3120 - accuracy: 0.8734\n",
            "Epoch 6/150\n",
            "658/658 [==============================] - 1s 1ms/step - loss: 0.2928 - accuracy: 0.8795\n",
            "Epoch 7/150\n",
            "658/658 [==============================] - 1s 1ms/step - loss: 0.2612 - accuracy: 0.8924\n",
            "Epoch 8/150\n",
            "658/658 [==============================] - 1s 1ms/step - loss: 0.2515 - accuracy: 0.8946\n",
            "Epoch 9/150\n",
            "658/658 [==============================] - 1s 1ms/step - loss: 0.2332 - accuracy: 0.9065\n",
            "Epoch 10/150\n",
            "658/658 [==============================] - 1s 1ms/step - loss: 0.2193 - accuracy: 0.9121\n",
            "Epoch 11/150\n",
            "658/658 [==============================] - 1s 1ms/step - loss: 0.1984 - accuracy: 0.9213\n",
            "Epoch 12/150\n",
            "658/658 [==============================] - 1s 1ms/step - loss: 0.1772 - accuracy: 0.9367\n",
            "Epoch 13/150\n",
            "658/658 [==============================] - 1s 1ms/step - loss: 0.1828 - accuracy: 0.9285\n",
            "Epoch 14/150\n",
            "658/658 [==============================] - 1s 1ms/step - loss: 0.1668 - accuracy: 0.9411\n",
            "Epoch 15/150\n",
            "658/658 [==============================] - 1s 1ms/step - loss: 0.1718 - accuracy: 0.9405\n",
            "Epoch 16/150\n",
            "658/658 [==============================] - 1s 1ms/step - loss: 0.1471 - accuracy: 0.9483\n",
            "Epoch 17/150\n",
            "658/658 [==============================] - 1s 1ms/step - loss: 0.1378 - accuracy: 0.9540\n",
            "Epoch 18/150\n",
            "658/658 [==============================] - 1s 1ms/step - loss: 0.1385 - accuracy: 0.9503\n",
            "Epoch 19/150\n",
            "658/658 [==============================] - 1s 1ms/step - loss: 0.1396 - accuracy: 0.9500\n",
            "Epoch 20/150\n",
            "658/658 [==============================] - 1s 1ms/step - loss: 0.1264 - accuracy: 0.9582\n",
            "Epoch 21/150\n",
            "658/658 [==============================] - 1s 1ms/step - loss: 0.1243 - accuracy: 0.9616\n",
            "Epoch 22/150\n",
            "658/658 [==============================] - 1s 1ms/step - loss: 0.1208 - accuracy: 0.9569\n",
            "Epoch 23/150\n",
            "658/658 [==============================] - 1s 1ms/step - loss: 0.1171 - accuracy: 0.9624\n",
            "Epoch 24/150\n",
            "658/658 [==============================] - 1s 1ms/step - loss: 0.1096 - accuracy: 0.9652\n",
            "Epoch 25/150\n",
            "658/658 [==============================] - 1s 1ms/step - loss: 0.1065 - accuracy: 0.9632\n",
            "Epoch 26/150\n",
            "658/658 [==============================] - 1s 1ms/step - loss: 0.1130 - accuracy: 0.9626\n",
            "Epoch 27/150\n",
            "658/658 [==============================] - 1s 1ms/step - loss: 0.0921 - accuracy: 0.9706\n",
            "Epoch 28/150\n",
            "658/658 [==============================] - 1s 1ms/step - loss: 0.1029 - accuracy: 0.9633\n",
            "Epoch 29/150\n",
            "658/658 [==============================] - 1s 1ms/step - loss: 0.1011 - accuracy: 0.9670\n",
            "Epoch 30/150\n",
            "658/658 [==============================] - 1s 1ms/step - loss: 0.1026 - accuracy: 0.9691\n",
            "Epoch 31/150\n",
            "658/658 [==============================] - 1s 1ms/step - loss: 0.0984 - accuracy: 0.9657\n",
            "Epoch 32/150\n",
            "658/658 [==============================] - 1s 1ms/step - loss: 0.0916 - accuracy: 0.9685\n",
            "Epoch 33/150\n",
            "658/658 [==============================] - 1s 1ms/step - loss: 0.0828 - accuracy: 0.9711\n",
            "Epoch 34/150\n",
            "658/658 [==============================] - 1s 1ms/step - loss: 0.0915 - accuracy: 0.9712\n",
            "Epoch 35/150\n",
            "658/658 [==============================] - 1s 1ms/step - loss: 0.0875 - accuracy: 0.9724\n",
            "Epoch 36/150\n",
            "658/658 [==============================] - 1s 1ms/step - loss: 0.0922 - accuracy: 0.9693\n",
            "Epoch 37/150\n",
            "658/658 [==============================] - 1s 1ms/step - loss: 0.0874 - accuracy: 0.9718\n",
            "Epoch 38/150\n",
            "658/658 [==============================] - 1s 1ms/step - loss: 0.0923 - accuracy: 0.9676\n",
            "Epoch 39/150\n",
            "658/658 [==============================] - 1s 1ms/step - loss: 0.0797 - accuracy: 0.9752\n",
            "Epoch 40/150\n",
            "658/658 [==============================] - 1s 1ms/step - loss: 0.0741 - accuracy: 0.9791\n",
            "Epoch 41/150\n",
            "658/658 [==============================] - 1s 1ms/step - loss: 0.0738 - accuracy: 0.9762\n",
            "Epoch 42/150\n",
            "658/658 [==============================] - 1s 1ms/step - loss: 0.0731 - accuracy: 0.9754\n",
            "Epoch 43/150\n",
            "658/658 [==============================] - 1s 1ms/step - loss: 0.0776 - accuracy: 0.9740\n",
            "Epoch 44/150\n",
            "658/658 [==============================] - 1s 1ms/step - loss: 0.0808 - accuracy: 0.9749\n",
            "Epoch 45/150\n",
            "658/658 [==============================] - 1s 1ms/step - loss: 0.0677 - accuracy: 0.9781\n",
            "Epoch 46/150\n",
            "658/658 [==============================] - 1s 1ms/step - loss: 0.0804 - accuracy: 0.9713\n",
            "Epoch 47/150\n",
            "658/658 [==============================] - 1s 1ms/step - loss: 0.0741 - accuracy: 0.9773\n",
            "Epoch 48/150\n",
            "658/658 [==============================] - 1s 1ms/step - loss: 0.0793 - accuracy: 0.9756\n",
            "Epoch 49/150\n",
            "658/658 [==============================] - 1s 1ms/step - loss: 0.0716 - accuracy: 0.9775\n",
            "Epoch 50/150\n",
            "658/658 [==============================] - 1s 1ms/step - loss: 0.0649 - accuracy: 0.9789\n",
            "Epoch 51/150\n",
            "658/658 [==============================] - 1s 1ms/step - loss: 0.0661 - accuracy: 0.9782\n",
            "Epoch 52/150\n",
            "658/658 [==============================] - 1s 1ms/step - loss: 0.0659 - accuracy: 0.9801\n",
            "Epoch 53/150\n",
            "658/658 [==============================] - 1s 1ms/step - loss: 0.0674 - accuracy: 0.9767\n",
            "Epoch 54/150\n",
            "658/658 [==============================] - 1s 1ms/step - loss: 0.0556 - accuracy: 0.9821\n",
            "Epoch 55/150\n",
            "658/658 [==============================] - 1s 1ms/step - loss: 0.0852 - accuracy: 0.9717\n",
            "Epoch 56/150\n",
            "658/658 [==============================] - 1s 1ms/step - loss: 0.0736 - accuracy: 0.9776\n",
            "Epoch 57/150\n",
            "658/658 [==============================] - 1s 1ms/step - loss: 0.0700 - accuracy: 0.9753\n",
            "Epoch 58/150\n",
            "658/658 [==============================] - 1s 1ms/step - loss: 0.0653 - accuracy: 0.9769\n",
            "Epoch 59/150\n",
            "658/658 [==============================] - 1s 1ms/step - loss: 0.0628 - accuracy: 0.9812\n",
            "Epoch 60/150\n",
            "658/658 [==============================] - 1s 1ms/step - loss: 0.0632 - accuracy: 0.9821\n",
            "Epoch 61/150\n",
            "658/658 [==============================] - 1s 1ms/step - loss: 0.0671 - accuracy: 0.9778\n",
            "Epoch 62/150\n",
            "658/658 [==============================] - 1s 1ms/step - loss: 0.0571 - accuracy: 0.9830\n",
            "Epoch 63/150\n",
            "658/658 [==============================] - 1s 1ms/step - loss: 0.0617 - accuracy: 0.9777\n",
            "Epoch 64/150\n",
            "658/658 [==============================] - 1s 1ms/step - loss: 0.0604 - accuracy: 0.9806\n",
            "Epoch 65/150\n",
            "658/658 [==============================] - 1s 1ms/step - loss: 0.0713 - accuracy: 0.9756\n",
            "Epoch 66/150\n",
            "658/658 [==============================] - 1s 1ms/step - loss: 0.0614 - accuracy: 0.9789\n",
            "Epoch 67/150\n",
            "658/658 [==============================] - 1s 1ms/step - loss: 0.0621 - accuracy: 0.9808\n",
            "Epoch 68/150\n",
            "658/658 [==============================] - 1s 1ms/step - loss: 0.0686 - accuracy: 0.9772\n",
            "Epoch 69/150\n",
            "658/658 [==============================] - 1s 1ms/step - loss: 0.0483 - accuracy: 0.9840\n",
            "Epoch 70/150\n",
            "658/658 [==============================] - 1s 1ms/step - loss: 0.0409 - accuracy: 0.9888\n",
            "Epoch 71/150\n",
            "658/658 [==============================] - 1s 1ms/step - loss: 0.0557 - accuracy: 0.9822\n",
            "Epoch 72/150\n",
            "658/658 [==============================] - 1s 1ms/step - loss: 0.0508 - accuracy: 0.9809\n",
            "Epoch 73/150\n",
            "658/658 [==============================] - 1s 1ms/step - loss: 0.0470 - accuracy: 0.9844\n",
            "Epoch 74/150\n",
            "658/658 [==============================] - 1s 1ms/step - loss: 0.0479 - accuracy: 0.9851\n",
            "Epoch 75/150\n",
            "658/658 [==============================] - 1s 1ms/step - loss: 0.0594 - accuracy: 0.9777\n",
            "Epoch 76/150\n",
            "658/658 [==============================] - 1s 1ms/step - loss: 0.0534 - accuracy: 0.9811\n",
            "Epoch 77/150\n",
            "658/658 [==============================] - 1s 1ms/step - loss: 0.0455 - accuracy: 0.9868\n",
            "Epoch 78/150\n",
            "658/658 [==============================] - 1s 1ms/step - loss: 0.0550 - accuracy: 0.9845\n",
            "Epoch 79/150\n",
            "658/658 [==============================] - 1s 1ms/step - loss: 0.0547 - accuracy: 0.9832\n",
            "Epoch 80/150\n",
            "658/658 [==============================] - 1s 1ms/step - loss: 0.0458 - accuracy: 0.9848\n",
            "Epoch 81/150\n",
            "658/658 [==============================] - 1s 1ms/step - loss: 0.0721 - accuracy: 0.9825\n",
            "Epoch 82/150\n",
            "658/658 [==============================] - 1s 1ms/step - loss: 0.0440 - accuracy: 0.9852\n",
            "Epoch 83/150\n",
            "658/658 [==============================] - 1s 1ms/step - loss: 0.0504 - accuracy: 0.9839\n",
            "Epoch 84/150\n",
            "658/658 [==============================] - 1s 1ms/step - loss: 0.0515 - accuracy: 0.9838\n",
            "Epoch 85/150\n",
            "658/658 [==============================] - 1s 1ms/step - loss: 0.0379 - accuracy: 0.9879\n",
            "Epoch 86/150\n",
            "658/658 [==============================] - 1s 1ms/step - loss: 0.0506 - accuracy: 0.9845\n",
            "Epoch 87/150\n",
            "658/658 [==============================] - 1s 1ms/step - loss: 0.0488 - accuracy: 0.9852\n",
            "Epoch 88/150\n",
            "658/658 [==============================] - 1s 1ms/step - loss: 0.0393 - accuracy: 0.9890\n",
            "Epoch 89/150\n",
            "658/658 [==============================] - 1s 1ms/step - loss: 0.0555 - accuracy: 0.9809\n",
            "Epoch 90/150\n",
            "658/658 [==============================] - 1s 1ms/step - loss: 0.0544 - accuracy: 0.9802\n",
            "Epoch 91/150\n",
            "658/658 [==============================] - 1s 1ms/step - loss: 0.0356 - accuracy: 0.9890\n",
            "Epoch 92/150\n",
            "658/658 [==============================] - 1s 1ms/step - loss: 0.0516 - accuracy: 0.9816\n",
            "Epoch 93/150\n",
            "658/658 [==============================] - 1s 1ms/step - loss: 0.0439 - accuracy: 0.9861\n",
            "Epoch 94/150\n",
            "658/658 [==============================] - 1s 1ms/step - loss: 0.0465 - accuracy: 0.9839\n",
            "Epoch 95/150\n",
            "658/658 [==============================] - 1s 1ms/step - loss: 0.0438 - accuracy: 0.9855\n",
            "Epoch 96/150\n",
            "658/658 [==============================] - 1s 1ms/step - loss: 0.0407 - accuracy: 0.9857\n",
            "Epoch 97/150\n",
            "658/658 [==============================] - 1s 1ms/step - loss: 0.0332 - accuracy: 0.9900\n",
            "Epoch 98/150\n",
            "658/658 [==============================] - 1s 1ms/step - loss: 0.0424 - accuracy: 0.9889\n",
            "Epoch 99/150\n",
            "658/658 [==============================] - 1s 1ms/step - loss: 0.0411 - accuracy: 0.9876\n",
            "Epoch 100/150\n",
            "658/658 [==============================] - 1s 1ms/step - loss: 0.0489 - accuracy: 0.9840\n",
            "Epoch 101/150\n",
            "658/658 [==============================] - 1s 1ms/step - loss: 0.0398 - accuracy: 0.9866\n",
            "Epoch 102/150\n",
            "658/658 [==============================] - 1s 1ms/step - loss: 0.0439 - accuracy: 0.9846\n",
            "Epoch 103/150\n",
            "658/658 [==============================] - 1s 1ms/step - loss: 0.0380 - accuracy: 0.9875\n",
            "Epoch 104/150\n",
            "658/658 [==============================] - 1s 1ms/step - loss: 0.0506 - accuracy: 0.9829\n",
            "Epoch 105/150\n",
            "658/658 [==============================] - 1s 1ms/step - loss: 0.0433 - accuracy: 0.9847\n",
            "Epoch 106/150\n",
            "658/658 [==============================] - 1s 1ms/step - loss: 0.0345 - accuracy: 0.9891\n",
            "Epoch 107/150\n",
            "658/658 [==============================] - 1s 1ms/step - loss: 0.0373 - accuracy: 0.9872\n",
            "Epoch 108/150\n",
            "658/658 [==============================] - 1s 1ms/step - loss: 0.0504 - accuracy: 0.9840\n",
            "Epoch 109/150\n",
            "658/658 [==============================] - 1s 1ms/step - loss: 0.0343 - accuracy: 0.9877\n",
            "Epoch 110/150\n",
            "658/658 [==============================] - 1s 1ms/step - loss: 0.0345 - accuracy: 0.9899\n",
            "Epoch 111/150\n",
            "658/658 [==============================] - 1s 1ms/step - loss: 0.0407 - accuracy: 0.9883\n",
            "Epoch 112/150\n",
            "658/658 [==============================] - 1s 1ms/step - loss: 0.0342 - accuracy: 0.9895\n",
            "Epoch 113/150\n",
            "658/658 [==============================] - 1s 1ms/step - loss: 0.0532 - accuracy: 0.9834\n",
            "Epoch 114/150\n",
            "658/658 [==============================] - 1s 1ms/step - loss: 0.0367 - accuracy: 0.9900\n",
            "Epoch 115/150\n",
            "658/658 [==============================] - 1s 1ms/step - loss: 0.0407 - accuracy: 0.9875\n",
            "Epoch 116/150\n",
            "658/658 [==============================] - 1s 1ms/step - loss: 0.0305 - accuracy: 0.9898\n",
            "Epoch 117/150\n",
            "658/658 [==============================] - 1s 1ms/step - loss: 0.0311 - accuracy: 0.9897\n",
            "Epoch 118/150\n",
            "658/658 [==============================] - 1s 1ms/step - loss: 0.0320 - accuracy: 0.9904\n",
            "Epoch 119/150\n",
            "658/658 [==============================] - 1s 1ms/step - loss: 0.0307 - accuracy: 0.9896\n",
            "Epoch 120/150\n",
            "658/658 [==============================] - 1s 1ms/step - loss: 0.0437 - accuracy: 0.9868\n",
            "Epoch 121/150\n",
            "658/658 [==============================] - 1s 1ms/step - loss: 0.0441 - accuracy: 0.9874\n",
            "Epoch 122/150\n",
            "658/658 [==============================] - 1s 1ms/step - loss: 0.0345 - accuracy: 0.9890\n",
            "Epoch 123/150\n",
            "658/658 [==============================] - 1s 1ms/step - loss: 0.0427 - accuracy: 0.9879\n",
            "Epoch 124/150\n",
            "658/658 [==============================] - 1s 1ms/step - loss: 0.0345 - accuracy: 0.9882\n",
            "Epoch 125/150\n",
            "658/658 [==============================] - 1s 1ms/step - loss: 0.0386 - accuracy: 0.9863\n",
            "Epoch 126/150\n",
            "658/658 [==============================] - 1s 1ms/step - loss: 0.0230 - accuracy: 0.9933\n",
            "Epoch 127/150\n",
            "658/658 [==============================] - 1s 1ms/step - loss: 0.0350 - accuracy: 0.9895\n",
            "Epoch 128/150\n",
            "658/658 [==============================] - 1s 1ms/step - loss: 0.0281 - accuracy: 0.9915\n",
            "Epoch 129/150\n",
            "658/658 [==============================] - 1s 1ms/step - loss: 0.0302 - accuracy: 0.9907\n",
            "Epoch 130/150\n",
            "658/658 [==============================] - 1s 1ms/step - loss: 0.0312 - accuracy: 0.9906\n",
            "Epoch 131/150\n",
            "658/658 [==============================] - 1s 1ms/step - loss: 0.0472 - accuracy: 0.9846\n",
            "Epoch 132/150\n",
            "658/658 [==============================] - 1s 1ms/step - loss: 0.0306 - accuracy: 0.9900\n",
            "Epoch 133/150\n",
            "658/658 [==============================] - 1s 1ms/step - loss: 0.0321 - accuracy: 0.9911\n",
            "Epoch 134/150\n",
            "658/658 [==============================] - 1s 1ms/step - loss: 0.0288 - accuracy: 0.9924\n",
            "Epoch 135/150\n",
            "658/658 [==============================] - 1s 1ms/step - loss: 0.0462 - accuracy: 0.9861\n",
            "Epoch 136/150\n",
            "658/658 [==============================] - 1s 1ms/step - loss: 0.0392 - accuracy: 0.9876\n",
            "Epoch 137/150\n",
            "658/658 [==============================] - 1s 1ms/step - loss: 0.0324 - accuracy: 0.9913\n",
            "Epoch 138/150\n",
            "658/658 [==============================] - 1s 1ms/step - loss: 0.0440 - accuracy: 0.9866\n",
            "Epoch 139/150\n",
            "658/658 [==============================] - 1s 1ms/step - loss: 0.0298 - accuracy: 0.9908\n",
            "Epoch 140/150\n",
            "658/658 [==============================] - 1s 1ms/step - loss: 0.0286 - accuracy: 0.9916\n",
            "Epoch 141/150\n",
            "658/658 [==============================] - 1s 1ms/step - loss: 0.0526 - accuracy: 0.9856\n",
            "Epoch 142/150\n",
            "658/658 [==============================] - 1s 1ms/step - loss: 0.0275 - accuracy: 0.9913\n",
            "Epoch 143/150\n",
            "658/658 [==============================] - 1s 1ms/step - loss: 0.0342 - accuracy: 0.9889\n",
            "Epoch 144/150\n",
            "658/658 [==============================] - 1s 1ms/step - loss: 0.0348 - accuracy: 0.9887\n",
            "Epoch 145/150\n",
            "658/658 [==============================] - 1s 1ms/step - loss: 0.0279 - accuracy: 0.9893\n",
            "Epoch 146/150\n",
            "658/658 [==============================] - 1s 1ms/step - loss: 0.0338 - accuracy: 0.9908\n",
            "Epoch 147/150\n",
            "658/658 [==============================] - 1s 1ms/step - loss: 0.0289 - accuracy: 0.9909\n",
            "Epoch 148/150\n",
            "658/658 [==============================] - 1s 1ms/step - loss: 0.0245 - accuracy: 0.9920\n",
            "Epoch 149/150\n",
            "658/658 [==============================] - 1s 1ms/step - loss: 0.0500 - accuracy: 0.9816\n",
            "Epoch 150/150\n",
            "658/658 [==============================] - 1s 1ms/step - loss: 0.0290 - accuracy: 0.9916\n"
          ],
          "name": "stdout"
        },
        {
          "output_type": "execute_result",
          "data": {
            "text/plain": [
              "<tensorflow.python.keras.callbacks.History at 0x7ff6e1ba0a50>"
            ]
          },
          "metadata": {
            "tags": []
          },
          "execution_count": 259
        }
      ]
    },
    {
      "cell_type": "code",
      "metadata": {
        "execution": {
          "iopub.status.busy": "2021-05-21T08:57:17.462992Z",
          "iopub.execute_input": "2021-05-21T08:57:17.463627Z",
          "iopub.status.idle": "2021-05-21T08:57:17.637077Z",
          "shell.execute_reply.started": "2021-05-21T08:57:17.463574Z",
          "shell.execute_reply": "2021-05-21T08:57:17.636026Z"
        },
        "trusted": true,
        "id": "WBEZ33CfPs_t"
      },
      "source": [
        "predictions_keras = keras_model.predict(X_train_scaled)"
      ],
      "execution_count": null,
      "outputs": []
    },
    {
      "cell_type": "code",
      "metadata": {
        "execution": {
          "iopub.status.busy": "2021-05-21T09:24:53.653042Z",
          "iopub.execute_input": "2021-05-21T09:24:53.653455Z",
          "iopub.status.idle": "2021-05-21T09:24:53.695346Z",
          "shell.execute_reply.started": "2021-05-21T09:24:53.653421Z",
          "shell.execute_reply": "2021-05-21T09:24:53.693705Z"
        },
        "trusted": true,
        "id": "eR_elTVJPs_u",
        "outputId": "bef57970-0ce7-4c24-ee31-f05a4aa2d8ee"
      },
      "source": [
        "#??? Can't get metrics :-(\n",
        "print(confusion_matrix(test_y, prediction_keras))\n",
        "print(classification_report(test_y,prediction_keras))"
      ],
      "execution_count": null,
      "outputs": [
        {
          "output_type": "error",
          "ename": "ValueError",
          "evalue": "Classification metrics can't handle a mix of binary and continuous targets",
          "traceback": [
            "\u001b[0;31m---------------------------------------------------------------------------\u001b[0m",
            "\u001b[0;31mValueError\u001b[0m                                Traceback (most recent call last)",
            "\u001b[0;32m<ipython-input-298-60648cfa9b58>\u001b[0m in \u001b[0;36m<module>\u001b[0;34m\u001b[0m\n\u001b[1;32m      1\u001b[0m \u001b[0;31m#??? Can't get metrics :-(\u001b[0m\u001b[0;34m\u001b[0m\u001b[0;34m\u001b[0m\u001b[0;34m\u001b[0m\u001b[0m\n\u001b[0;32m----> 2\u001b[0;31m \u001b[0mprint\u001b[0m\u001b[0;34m(\u001b[0m\u001b[0mconfusion_matrix\u001b[0m\u001b[0;34m(\u001b[0m\u001b[0mtest_y\u001b[0m\u001b[0;34m,\u001b[0m \u001b[0mprediction_keras\u001b[0m\u001b[0;34m)\u001b[0m\u001b[0;34m)\u001b[0m\u001b[0;34m\u001b[0m\u001b[0;34m\u001b[0m\u001b[0m\n\u001b[0m\u001b[1;32m      3\u001b[0m \u001b[0mprint\u001b[0m\u001b[0;34m(\u001b[0m\u001b[0mclassification_report\u001b[0m\u001b[0;34m(\u001b[0m\u001b[0mtest_y\u001b[0m\u001b[0;34m,\u001b[0m\u001b[0mprediction_keras\u001b[0m\u001b[0;34m)\u001b[0m\u001b[0;34m)\u001b[0m\u001b[0;34m\u001b[0m\u001b[0;34m\u001b[0m\u001b[0m\n",
            "\u001b[0;32m/opt/conda/lib/python3.7/site-packages/sklearn/utils/validation.py\u001b[0m in \u001b[0;36minner_f\u001b[0;34m(*args, **kwargs)\u001b[0m\n\u001b[1;32m     61\u001b[0m             \u001b[0mextra_args\u001b[0m \u001b[0;34m=\u001b[0m \u001b[0mlen\u001b[0m\u001b[0;34m(\u001b[0m\u001b[0margs\u001b[0m\u001b[0;34m)\u001b[0m \u001b[0;34m-\u001b[0m \u001b[0mlen\u001b[0m\u001b[0;34m(\u001b[0m\u001b[0mall_args\u001b[0m\u001b[0;34m)\u001b[0m\u001b[0;34m\u001b[0m\u001b[0;34m\u001b[0m\u001b[0m\n\u001b[1;32m     62\u001b[0m             \u001b[0;32mif\u001b[0m \u001b[0mextra_args\u001b[0m \u001b[0;34m<=\u001b[0m \u001b[0;36m0\u001b[0m\u001b[0;34m:\u001b[0m\u001b[0;34m\u001b[0m\u001b[0;34m\u001b[0m\u001b[0m\n\u001b[0;32m---> 63\u001b[0;31m                 \u001b[0;32mreturn\u001b[0m \u001b[0mf\u001b[0m\u001b[0;34m(\u001b[0m\u001b[0;34m*\u001b[0m\u001b[0margs\u001b[0m\u001b[0;34m,\u001b[0m \u001b[0;34m**\u001b[0m\u001b[0mkwargs\u001b[0m\u001b[0;34m)\u001b[0m\u001b[0;34m\u001b[0m\u001b[0;34m\u001b[0m\u001b[0m\n\u001b[0m\u001b[1;32m     64\u001b[0m \u001b[0;34m\u001b[0m\u001b[0m\n\u001b[1;32m     65\u001b[0m             \u001b[0;31m# extra_args > 0\u001b[0m\u001b[0;34m\u001b[0m\u001b[0;34m\u001b[0m\u001b[0;34m\u001b[0m\u001b[0m\n",
            "\u001b[0;32m/opt/conda/lib/python3.7/site-packages/sklearn/metrics/_classification.py\u001b[0m in \u001b[0;36mconfusion_matrix\u001b[0;34m(y_true, y_pred, labels, sample_weight, normalize)\u001b[0m\n\u001b[1;32m    294\u001b[0m \u001b[0;34m\u001b[0m\u001b[0m\n\u001b[1;32m    295\u001b[0m     \"\"\"\n\u001b[0;32m--> 296\u001b[0;31m     \u001b[0my_type\u001b[0m\u001b[0;34m,\u001b[0m \u001b[0my_true\u001b[0m\u001b[0;34m,\u001b[0m \u001b[0my_pred\u001b[0m \u001b[0;34m=\u001b[0m \u001b[0m_check_targets\u001b[0m\u001b[0;34m(\u001b[0m\u001b[0my_true\u001b[0m\u001b[0;34m,\u001b[0m \u001b[0my_pred\u001b[0m\u001b[0;34m)\u001b[0m\u001b[0;34m\u001b[0m\u001b[0;34m\u001b[0m\u001b[0m\n\u001b[0m\u001b[1;32m    297\u001b[0m     \u001b[0;32mif\u001b[0m \u001b[0my_type\u001b[0m \u001b[0;32mnot\u001b[0m \u001b[0;32min\u001b[0m \u001b[0;34m(\u001b[0m\u001b[0;34m\"binary\"\u001b[0m\u001b[0;34m,\u001b[0m \u001b[0;34m\"multiclass\"\u001b[0m\u001b[0;34m)\u001b[0m\u001b[0;34m:\u001b[0m\u001b[0;34m\u001b[0m\u001b[0;34m\u001b[0m\u001b[0m\n\u001b[1;32m    298\u001b[0m         \u001b[0;32mraise\u001b[0m \u001b[0mValueError\u001b[0m\u001b[0;34m(\u001b[0m\u001b[0;34m\"%s is not supported\"\u001b[0m \u001b[0;34m%\u001b[0m \u001b[0my_type\u001b[0m\u001b[0;34m)\u001b[0m\u001b[0;34m\u001b[0m\u001b[0;34m\u001b[0m\u001b[0m\n",
            "\u001b[0;32m/opt/conda/lib/python3.7/site-packages/sklearn/metrics/_classification.py\u001b[0m in \u001b[0;36m_check_targets\u001b[0;34m(y_true, y_pred)\u001b[0m\n\u001b[1;32m     91\u001b[0m     \u001b[0;32mif\u001b[0m \u001b[0mlen\u001b[0m\u001b[0;34m(\u001b[0m\u001b[0my_type\u001b[0m\u001b[0;34m)\u001b[0m \u001b[0;34m>\u001b[0m \u001b[0;36m1\u001b[0m\u001b[0;34m:\u001b[0m\u001b[0;34m\u001b[0m\u001b[0;34m\u001b[0m\u001b[0m\n\u001b[1;32m     92\u001b[0m         raise ValueError(\"Classification metrics can't handle a mix of {0} \"\n\u001b[0;32m---> 93\u001b[0;31m                          \"and {1} targets\".format(type_true, type_pred))\n\u001b[0m\u001b[1;32m     94\u001b[0m \u001b[0;34m\u001b[0m\u001b[0m\n\u001b[1;32m     95\u001b[0m     \u001b[0;31m# We can't have more than one value on y_type => The set is no more needed\u001b[0m\u001b[0;34m\u001b[0m\u001b[0;34m\u001b[0m\u001b[0;34m\u001b[0m\u001b[0m\n",
            "\u001b[0;31mValueError\u001b[0m: Classification metrics can't handle a mix of binary and continuous targets"
          ]
        }
      ]
    },
    {
      "cell_type": "markdown",
      "metadata": {
        "id": "4ehyQ60kPs_u"
      },
      "source": [
        "## Conclusions\n",
        "\n",
        "The random forest classifier resulted in the most accurate predicition of stroke with highest recall and precision\n",
        "* using hyperparameters 'n_estimators': 230, 'min_samples_split': 5, 'min_samples_leaf': 1, 'max_features': 'sqrt', 'max_depth': 60, 'bootstrap': False \n",
        "* with age, avg_glucose_level and bmi being the most important features."
      ]
    }
  ]
}